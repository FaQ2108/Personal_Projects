{
  "nbformat": 4,
  "nbformat_minor": 0,
  "metadata": {
    "colab": {
      "provenance": [],
      "authorship_tag": "ABX9TyMCXeFhOlRJNugXasb9b5Jf",
      "include_colab_link": true
    },
    "kernelspec": {
      "name": "python3",
      "display_name": "Python 3"
    },
    "language_info": {
      "name": "python"
    }
  },
  "cells": [
    {
      "cell_type": "markdown",
      "metadata": {
        "id": "view-in-github",
        "colab_type": "text"
      },
      "source": [
        "<a href=\"https://colab.research.google.com/github/FaQ2108/Personal_Projects/blob/main/Analisis_de_Sentimientos_Acciones.ipynb\" target=\"_parent\"><img src=\"https://colab.research.google.com/assets/colab-badge.svg\" alt=\"Open In Colab\"/></a>"
      ]
    },
    {
      "cell_type": "markdown",
      "source": [
        "# Proyecto de Análisis de Sentimiento para Noticias Financieras\n",
        "\n",
        "## Descripción General\n",
        "\n",
        "Este proyecto tiene como objetivo analizar el sentimiento de noticias financieras relacionadas con un ticker de acción específico. El análisis de sentimiento es una técnica del procesamiento del lenguaje natural que permite identificar y clasificar la polaridad (positiva, negativa o neutral) de un texto. Esta herramienta es especialmente útil para:\n",
        "\n",
        "- **Tomar Decisiones Informadas:** Comprender la percepción del mercado sobre una acción puede ser crucial para decisiones de inversión.\n",
        "- **Monitoreo de Tendencias:** Permite detectar cambios y tendencias en el sentimiento del mercado en tiempo real.\n",
        "- **Complemento al Análisis Tradicional:** Ofrece una dimensión adicional al análisis financiero convencional, proporcionando una visión más completa de la situación.\n",
        "\n",
        "El script desarrollado en este proyecto se ejecuta en Google Colab y está modularizado para facilitar su comprensión y mantenimiento. En resumen, el script realiza las siguientes tareas:\n",
        "\n",
        "1. **Autenticación y Conexión a NewsAPI:** Solicita al usuario su API key de NewsAPI de forma segura, estableciendo la conexión para obtener noticias relevantes.\n",
        "2. **Selección del Ticker:** Permite al usuario ingresar el ticker de la acción que desea analizar.\n",
        "3. **Obtención de Noticias:** Recupera las últimas 10 noticias en inglés relacionadas con el ticker ingresado.\n",
        "4. **Traducción:** Traduce tanto el título como el resumen de cada noticia al español utilizando la librería `googletrans`.\n",
        "5. **Análisis de Sentimiento:** Utiliza el analizador VADER para evaluar el sentimiento de cada noticia, asignando etiquetas y emojis (🟢 para positivo, 🔴 para negativo y ⚪ para neutral).\n",
        "6. **Preprocesamiento de Texto:** Limpia y normaliza los textos para mejorar la calidad del análisis.\n",
        "7. **Análisis Temporal:** Procesa las fechas de publicación para visualizar la distribución de las noticias a lo largo del tiempo.\n",
        "8. **Visualización del Sentimiento Temporal:** Genera gráficos que muestran cómo varía el sentimiento a lo largo del tiempo, facilitando la identificación de tendencias y patrones.\n",
        "\n",
        "Este enfoque modular y detallado no solo permite evaluar el sentimiento individual de cada noticia, sino también analizar la evolución del sentimiento a lo largo del tiempo, lo que resulta en una herramienta robusta para comprender la percepción del mercado financiero."
      ],
      "metadata": {
        "id": "TqaoS4Qq7k4V"
      }
    },
    {
      "cell_type": "markdown",
      "source": [
        "## Autenticación y Conexión a NewsAPI\n",
        "\n",
        "En este bloque se solicita al usuario que ingrese su API key de NewsAPI de manera segura.\n",
        "\n",
        "Se utiliza `getpass.getpass()` para que la clave se oculte mientras se ingresa.\n",
        "Después, se muestra una versión en asteriscos de la clave para confirmar la entrada sin revelar la clave real.\n",
        "\n",
        "**Instrucciones:**\n",
        "1. Obtené tu API key en [NewsAPI](https://newsapi.org/).\n",
        "2. Ingresá tu clave cuando se te solicite.\n",
        "3. Verificá que la conexión se establezca correctamente."
      ],
      "metadata": {
        "id": "1aeKwnosx6Sq"
      }
    },
    {
      "cell_type": "code",
      "source": [
        "import requests\n",
        "import getpass\n",
        "\n",
        "# Solicitar la API key al usuario de forma oculta\n",
        "api_key = getpass.getpass(\"Ingresa tu API key de NewsAPI: \")\n",
        "\n",
        "# Mostrar la API key enmascarada (por privacidad)\n",
        "print(\"Tu API key es: \" + \"*\" * len(api_key))\n",
        "\n",
        "# Función para probar la conexión a NewsAPI\n",
        "def test_connection():\n",
        "    url = \"https://newsapi.org/v2/top-headlines\"\n",
        "    params = {\n",
        "        'q': 'finance',  # consulta genérica para probar la conexión\n",
        "        'apiKey': api_key,\n",
        "        'pageSize': 1  # solo se pide una noticia para la prueba\n",
        "    }\n",
        "    response = requests.get(url, params=params)\n",
        "    if response.status_code == 200:\n",
        "        print(\"Conexión a NewsAPI exitosa.\")\n",
        "    else:\n",
        "        print(\"Error en la conexión a NewsAPI. Revisa tu API key y la configuración.\")\n",
        "\n",
        "# Ejecutamos la función de prueba\n",
        "test_connection()"
      ],
      "metadata": {
        "colab": {
          "base_uri": "https://localhost:8080/"
        },
        "id": "z0w0TeaIx34D",
        "outputId": "ae064082-4c60-455c-c1e4-8a7b997dbe82"
      },
      "execution_count": 25,
      "outputs": [
        {
          "output_type": "stream",
          "name": "stdout",
          "text": [
            "Ingresa tu API key de NewsAPI: ··········\n",
            "Tu API key es: ********************************\n",
            "Conexión a NewsAPI exitosa.\n"
          ]
        }
      ]
    },
    {
      "cell_type": "markdown",
      "source": [
        "## Selección del Ticker\n",
        "\n",
        "En este bloque se le solicita al usuario que ingrese el ticker de la acción que desea analizar.\n",
        "El ticker es el identificador único de la acción en el mercado financiero.\n",
        "Se transforma a mayúsculas para mantener un formato estándar y se muestra una confirmación."
      ],
      "metadata": {
        "id": "TxRC7crL4bHK"
      }
    },
    {
      "cell_type": "code",
      "source": [
        "ticker = input(\"Ingresa el ticker de la acción que deseas analizar: \").upper().strip()\n",
        "print(f\"Analizando la acción: {ticker}\")"
      ],
      "metadata": {
        "colab": {
          "base_uri": "https://localhost:8080/"
        },
        "id": "JePMJwQ4yaNN",
        "outputId": "c6eaf2f4-c400-4412-cf1b-bd54900fcabc"
      },
      "execution_count": 26,
      "outputs": [
        {
          "output_type": "stream",
          "name": "stdout",
          "text": [
            "Ingresa el ticker de la acción que deseas analizar: AAPL\n",
            "Analizando la acción: AAPL\n"
          ]
        }
      ]
    },
    {
      "cell_type": "markdown",
      "source": [
        "## Obtención de Noticias\n",
        "\n",
        "En este bloque se realiza la consulta a NewsAPI utilizando el ticker ingresado.\n",
        "Se utiliza el endpoint \"everything\" para obtener hasta 10 noticias relevantes en inglés,\n",
        "ordenadas por fecha de publicación.\n",
        "El resultado se guarda en una lista de diccionarios, donde cada uno contiene el título,\n",
        "resumen y URL de la noticia."
      ],
      "metadata": {
        "id": "IWMG-OAM4e0B"
      }
    },
    {
      "cell_type": "code",
      "source": [
        "def fetch_news(ticker, api_key):\n",
        "    url = \"https://newsapi.org/v2/everything\"\n",
        "    params = {\n",
        "        \"q\": ticker,\n",
        "        \"pageSize\": 30,          # Limitamos a las últimas X noticias\n",
        "        \"sortBy\": \"publishedAt\", # Ordenadas por fecha de publicación\n",
        "        \"language\": \"en\",        # Noticias en inglés (idioma original)\n",
        "        \"apiKey\": api_key\n",
        "    }\n",
        "    response = requests.get(url, params=params)\n",
        "    if response.status_code == 200:\n",
        "        data = response.json()\n",
        "        articles = data.get(\"articles\", [])\n",
        "        if articles:\n",
        "            print(f\"Se han obtenido {len(articles)} noticias para el ticker {ticker}.\")\n",
        "        else:\n",
        "            print(\"No se encontraron noticias para el ticker ingresado.\")\n",
        "        return articles\n",
        "    else:\n",
        "        print(\"Error al obtener las noticias. Verifica tu conexión o la API key.\")\n",
        "        return []\n",
        "\n",
        "# Ejemplo de uso:\n",
        "articles = fetch_news(ticker, api_key)"
      ],
      "metadata": {
        "colab": {
          "base_uri": "https://localhost:8080/"
        },
        "id": "aSfRzaKsykoF",
        "outputId": "47e16cf5-c105-4390-a886-75d1d22e8af9"
      },
      "execution_count": 27,
      "outputs": [
        {
          "output_type": "stream",
          "name": "stdout",
          "text": [
            "Se han obtenido 30 noticias para el ticker AAPL.\n"
          ]
        }
      ]
    },
    {
      "cell_type": "markdown",
      "source": [
        "## Traducción de Noticias\n",
        "\n",
        "En este bloque se traducen el título y el resumen (description) de cada noticia del inglés al español,\n",
        "utilizando la librería `googletrans`.\n",
        "Se añaden dos nuevas claves en cada diccionario: \"title_es\" y \"description_es\" para almacenar las traducciones."
      ],
      "metadata": {
        "id": "Km3Qbxpq4izp"
      }
    },
    {
      "cell_type": "code",
      "source": [
        "from googletrans import Translator\n",
        "\n",
        "# Inicializamos el traductor\n",
        "translator = Translator()\n",
        "\n",
        "def translate_news_articles(articles):\n",
        "    for article in articles:\n",
        "        # Traducir el título\n",
        "        if article.get(\"title\"):\n",
        "            translated_title = translator.translate(article[\"title\"], dest=\"es\").text\n",
        "            article[\"title_es\"] = translated_title\n",
        "        else:\n",
        "            article[\"title_es\"] = \"N/A\"\n",
        "\n",
        "        # Traducir el resumen/description\n",
        "        if article.get(\"description\"):\n",
        "            translated_description = translator.translate(article[\"description\"], dest=\"es\").text\n",
        "            article[\"description_es\"] = translated_description\n",
        "        else:\n",
        "            article[\"description_es\"] = \"N/A\"\n",
        "    return articles\n",
        "\n",
        "# Ejecutamos la traducción sobre las noticias obtenidas\n",
        "articles = translate_news_articles(articles)"
      ],
      "metadata": {
        "id": "aiNIMzH2y0cX"
      },
      "execution_count": 28,
      "outputs": []
    },
    {
      "cell_type": "markdown",
      "source": [
        "## Análisis de Sentimiento con VADER\n",
        "\n",
        "En este bloque se analiza el sentimiento de cada noticia utilizando VADER.\n",
        "Se evalúa una combinación del título y el resumen (description) para determinar si la noticia es\n",
        "positiva, negativa o neutral, usando los siguientes umbrales:\n",
        "- Compound score >= 0.05: Positivo (🟢)\n",
        "- Compound score <= -0.05: Negativo (🔴)\n",
        "- Valores intermedios: Neutral (⚪)\n",
        "Se añaden nuevas claves al diccionario de cada noticia: \"sentiment\", \"sentiment_score\" y \"sentiment_emoji\"."
      ],
      "metadata": {
        "id": "jR-eVR2i4kBZ"
      }
    },
    {
      "cell_type": "code",
      "source": [
        "import nltk\n",
        "nltk.download('vader_lexicon')\n",
        "from nltk.sentiment.vader import SentimentIntensityAnalyzer\n",
        "\n",
        "# Inicializamos el analizador de sentimientos\n",
        "sia = SentimentIntensityAnalyzer()\n",
        "\n",
        "def analyze_sentiment(articles):\n",
        "    for article in articles:\n",
        "        # Concatenamos título y resumen para formar el texto de análisis\n",
        "        text = \"\"\n",
        "        if article.get(\"title\"):\n",
        "            text += article[\"title\"]\n",
        "        if article.get(\"description\"):\n",
        "            text += \" \" + article[\"description\"]\n",
        "\n",
        "        sentiment = sia.polarity_scores(text)\n",
        "        compound = sentiment['compound']\n",
        "\n",
        "        # Clasificamos el sentimiento\n",
        "        if compound >= 0.05:\n",
        "            sentiment_label = \"Positivo\"\n",
        "            sentiment_emoji = \"🟢\"\n",
        "        elif compound <= -0.05:\n",
        "            sentiment_label = \"Negativo\"\n",
        "            sentiment_emoji = \"🔴\"\n",
        "        else:\n",
        "            sentiment_label = \"Neutral\"\n",
        "            sentiment_emoji = \"⚪\"\n",
        "\n",
        "        article[\"sentiment\"] = sentiment_label\n",
        "        article[\"sentiment_score\"] = compound\n",
        "        article[\"sentiment_emoji\"] = sentiment_emoji\n",
        "    return articles\n",
        "\n",
        "# Ejecutamos el análisis de sentimiento\n",
        "articles = analyze_sentiment(articles)"
      ],
      "metadata": {
        "colab": {
          "base_uri": "https://localhost:8080/"
        },
        "id": "a1POHKCqy9_w",
        "outputId": "4361c01d-7903-497f-af45-2c7817b6a9c8"
      },
      "execution_count": 29,
      "outputs": [
        {
          "output_type": "stream",
          "name": "stderr",
          "text": [
            "[nltk_data] Downloading package vader_lexicon to /root/nltk_data...\n",
            "[nltk_data]   Package vader_lexicon is already up-to-date!\n"
          ]
        }
      ]
    },
    {
      "cell_type": "markdown",
      "source": [
        "## En este bloque se muestran los resultados individuales de cada noticia, incluyendo:\n",
        "- Título y resumen en inglés (original) y en español (traducción).\n",
        "- El sentimiento determinado, representado con emojis.\n",
        "\n",
        "Además, se presenta un resumen global en formato markdown que incluye:\n",
        "- Total de noticias analizadas.\n",
        "- Cantidad y porcentaje de noticias positivas, negativas y neutrales.\n",
        "- Promedio del compound score."
      ],
      "metadata": {
        "id": "de3N4x124oeT"
      }
    },
    {
      "cell_type": "code",
      "source": [
        "def display_results(articles):\n",
        "    total = len(articles)\n",
        "    count_pos = sum(1 for a in articles if a[\"sentiment\"] == \"Positivo\")\n",
        "    count_neg = sum(1 for a in articles if a[\"sentiment\"] == \"Negativo\")\n",
        "    count_neu = sum(1 for a in articles if a[\"sentiment\"] == \"Neutral\")\n",
        "    avg_compound = sum(a[\"sentiment_score\"] for a in articles) / total if total > 0 else 0\n",
        "\n",
        "    # Mostrar cada noticia\n",
        "    for i, article in enumerate(articles, start=1):\n",
        "        print(f\"--- Noticia {i} ---\")\n",
        "        print(f\"**Título (Original):** {article.get('title', 'N/A')}\")\n",
        "        print(f\"**Título (Español):** {article.get('title_es', 'N/A')}\")\n",
        "        print(f\"**Resumen (Original):** {article.get('description', 'N/A')}\")\n",
        "        print(f\"**Resumen (Español):** {article.get('description_es', 'N/A')}\")\n",
        "        print(f\"**Sentimiento:** {article.get('sentiment_emoji')} ({article.get('sentiment')}, Score: {article.get('sentiment_score')})\\n\")\n",
        "\n",
        "    # Mostrar resumen global en formato markdown\n",
        "    print(\"## Resumen Global\")\n",
        "    print(f\"- Total de noticias analizadas: {total}\")\n",
        "    if total > 0:\n",
        "        print(f\"- Positivas: {count_pos} ({(count_pos/total*100):.2f}%)\")\n",
        "        print(f\"- Negativas: {count_neg} ({(count_neg/total*100):.2f}%)\")\n",
        "        print(f\"- Neutrales: {count_neu} ({(count_neu/total*100):.2f}%)\")\n",
        "        print(f\"- Promedio del compound score: {avg_compound:.2f}\")\n",
        "    else:\n",
        "        print(\"No se han obtenido noticias para analizar.\")\n",
        "\n",
        "# Ejecutamos la función para mostrar los resultados y el resumen global\n",
        "display_results(articles)"
      ],
      "metadata": {
        "colab": {
          "base_uri": "https://localhost:8080/"
        },
        "id": "dY9NmXWSzC7Q",
        "outputId": "d0e01e88-3664-44a6-fa2c-956eec5135dc"
      },
      "execution_count": 30,
      "outputs": [
        {
          "output_type": "stream",
          "name": "stdout",
          "text": [
            "--- Noticia 1 ---\n",
            "**Título (Original):** Is Apple Inc. (AAPL) the Best Quality Stock to Invest in Now?\n",
            "**Título (Español):** ¿Es Apple Inc. (AAPL) la mejor calidad para invertir ahora?\n",
            "**Resumen (Original):** None\n",
            "**Resumen (Español):** N/A\n",
            "**Sentimiento:** 🟢 (Positivo, Score: 0.6369)\n",
            "\n",
            "--- Noticia 2 ---\n",
            "**Título (Original):** 5 quality ASX ETFs to buy after the selloff\n",
            "**Título (Español):** 5 ETF ASX de calidad para comprar después de la venta de la venta\n",
            "**Resumen (Original):** These funds could be top picks for Aussie investors following this month's market weakness.\n",
            "The post 5 quality ASX ETFs to buy after the selloff appeared first on The Motley Fool Australia.\n",
            "**Resumen (Español):** Estos fondos podrían ser las mejores opciones para los inversores australianos después de la debilidad del mercado de este mes.\n",
            "El Post 5 de calidad ASX ETFS para comprar después de que la venta de la venta apareció primero en Motley Fool Australia.\n",
            "**Sentimiento:** 🔴 (Negativo, Score: -0.5994)\n",
            "\n",
            "--- Noticia 3 ---\n",
            "**Título (Original):** Where Will Apple Stock Be In 5 Years?\n",
            "**Título (Español):** ¿Dónde estarán las acciones de Apple en 5 años?\n",
            "**Resumen (Original):** Wondering where Apple stock may be in five years? Learn what the current state of AAPL stock is and what its five year outlook may contain.\n",
            "**Resumen (Español):** ¿Se pregunta dónde puede estar las acciones de Apple en cinco años?Aprenda cuál es el estado actual de las acciones de AAPL y cuál puede contener su perspectiva de cinco años.\n",
            "**Sentimiento:** ⚪ (Neutral, Score: 0.0)\n",
            "\n",
            "--- Noticia 4 ---\n",
            "**Título (Original):** Sunday links: reduced resilience\n",
            "**Título (Español):** Enlaces dominicales: resistencia reducida\n",
            "**Resumen (Original):** Markets\n",
            "Sam Ro, \"The stock market does not price in what’s going on today. It’s pricing in what’s expected in the weeks, months, and years ahead.\" (tker.co)\n",
            "Ben Carlson, \"The stock market doesn’t care what you say or how you feel.\" (awealthofcommonsense.com)\n",
            "…\n",
            "**Resumen (Español):** Mercados\n",
            "Sam Ro, \"El mercado de valores no valora lo que está sucediendo hoy. Es el precio de lo que se espera en las semanas, meses y años por delante\".(Tker.co)\n",
            "Ben Carlson, \"Al mercado de valores no le importa lo que digas o cómo te sientes\".(awealthofcommonsense.com)\n",
            "…\n",
            "**Sentimiento:** 🟢 (Positivo, Score: 0.4939)\n",
            "\n",
            "--- Noticia 5 ---\n",
            "**Título (Original):** EFT: This Is Not A Buy Yet, But Worth Keeping On Your Radar\n",
            "**Título (Español):** EFT: Esto aún no es una compra, pero vale la pena mantener su radar\n",
            "**Resumen (Original):** The Eaton Vance Floating-Rate Income Trust is a fixed-income fund providing broad exposure to the floating-rate loan market. Read why EFT CEF is a Hold.\n",
            "**Resumen (Español):** El fideicomiso de ingresos de tasa flotante de Eaton Vance es un fondo de ingresos fijos que proporciona una amplia exposición al mercado de préstamos de tasa flotante.Lea por qué EFT CEF es una bodega.\n",
            "**Sentimiento:** 🟢 (Positivo, Score: 0.7783)\n",
            "\n",
            "--- Noticia 6 ---\n",
            "**Título (Original):** A Fed meeting and retail sales data greet a flailing stock market: What to know this week\n",
            "**Título (Español):** Una reunión de la Fed y datos de ventas minoristas saludan a un mercado de valores en agitación: qué saber esta semana\n",
            "**Resumen (Original):** With the stock market on its worst stretch of 2025, investors will be looking for clues on when, or if, the Federal Reserve will cut interest rates further...\n",
            "**Resumen (Español):** Con el mercado de valores en su peor tramo de 2025, los inversores buscarán pistas sobre cuándo, o si la Reserva Federal reducirá aún más las tasas de interés ...\n",
            "**Sentimiento:** 🔴 (Negativo, Score: -0.2263)\n",
            "\n",
            "--- Noticia 7 ---\n",
            "**Título (Original):** Facts About The Stock Corrections, Tariffs, And Consumer Confidence\n",
            "**Título (Español):** Hechos sobre las correcciones de existencias, las tarifas y la confianza del consumidor\n",
            "**Resumen (Original):** Stocks entered into a correction with a decline of 10%. What can history teach us about stocks after a correction in a time of tariffs and plunging consumer confidence?\n",
            "**Resumen (Español):** Las acciones ingresaron en una corrección con una disminución del 10%.¿Qué puede enseñarnos la historia sobre las existencias después de una corrección en un momento de aranceles y la confianza de los consumidores?\n",
            "**Sentimiento:** 🟢 (Positivo, Score: 0.765)\n",
            "\n",
            "--- Noticia 8 ---\n",
            "**Título (Original):** Greater Midwest Financial Group LLC Grows Stock Position in Apple Inc. (NASDAQ:AAPL)\n",
            "**Título (Español):** Greater Midwest Financial Group LLC aumenta la posición de stock en Apple Inc. (NASDAQ: AAPL)\n",
            "**Resumen (Original):** Greater Midwest Financial Group LLC lifted its holdings in Apple Inc. (NASDAQ:AAPL – Free Report) by 3.3% during the fourth quarter, HoldingsChannel reports. The institutional investor owned 54,187 shares of the iPhone maker’s stock after purchasing an additi…\n",
            "**Resumen (Español):** Greater Midwest Financial Group LLC levantó sus participaciones en Apple Inc. (NASDAQ: AAPL - Informe gratuito) en un 3,3% durante el cuarto trimestre, informa HoldingsChannel.El inversionista institucional poseía 54,187 acciones del fabricante de iPhone después de comprar un Additi ...\n",
            "**Sentimiento:** 🟢 (Positivo, Score: 0.8591)\n",
            "\n",
            "--- Noticia 9 ---\n",
            "**Título (Original):** MFA Wealth Services Purchases Shares of 12,741 Apple Inc. (NASDAQ:AAPL)\n",
            "**Título (Español):** MFA Wealth Services compras acciones de 12,741 Apple Inc. (NASDAQ: AAPL)\n",
            "**Resumen (Original):** MFA Wealth Services acquired a new position in Apple Inc. (NASDAQ:AAPL – Free Report) in the 4th quarter, according to the company in its most recent Form 13F filing with the Securities and Exchange Commission (SEC). The institutional investor acquired 12,741…\n",
            "**Resumen (Español):** MFA Wealth Services adquirió una nueva posición en Apple Inc. (NASDAQ: AAPL - Informe gratuito) en el cuarto trimestre, según la compañía en su presentación más reciente del Formulario 13F ante la Comisión de Bolsa y Valores (SEC).El inversor institucional adquirió 12,741 ...\n",
            "**Sentimiento:** 🟢 (Positivo, Score: 0.9201)\n",
            "\n",
            "--- Noticia 10 ---\n",
            "**Título (Original):** Shilanski & Associates Inc. Has $4.29 Million Stock Holdings in Apple Inc. (NASDAQ:AAPL)\n",
            "**Título (Español):** Shilanski & Associates Inc. tiene $ 4.29 millones de participaciones en Apple Inc. (NASDAQ: AAPL)\n",
            "**Resumen (Original):** Shilanski & Associates Inc. lowered its position in Apple Inc. (NASDAQ:AAPL – Free Report) by 1.2% in the 4th quarter, HoldingsChannel.com reports. The institutional investor owned 17,127 shares of the iPhone maker’s stock after selling 204 shares during the …\n",
            "**Resumen (Español):** Shilanski & Associates Inc. redujo su posición en Apple Inc. (NASDAQ: AAPL - Informe gratuito) en un 1,2% en el cuarto trimestre, informa HoldingsChannel.com.El inversor institucional poseía 17.127 acciones del fabricante de iPhone después de vender 204 acciones durante ...\n",
            "**Sentimiento:** 🟢 (Positivo, Score: 0.7351)\n",
            "\n",
            "--- Noticia 11 ---\n",
            "**Título (Original):** RFG Advisory LLC Has $42.69 Million Stake in Apple Inc. (NASDAQ:AAPL)\n",
            "**Título (Español):** RFG Advisory LLC tiene una participación de $ 42.69 millones en Apple Inc. (NASDAQ: AAPL)\n",
            "**Resumen (Original):** RFG Advisory LLC increased its stake in shares of Apple Inc. (NASDAQ:AAPL – Free Report) by 3.1% during the 4th quarter, Holdings Channel.com reports. The firm owned 170,468 shares of the iPhone maker’s stock after acquiring an additional 5,086 shares during …\n",
            "**Resumen (Español):** RFG Advisory LLC aumentó su participación en las acciones de Apple Inc. (NASDAQ: AAPL - Informe gratuito) en un 3,1% durante el cuarto trimestre, informa Holdings Channel.com.La firma poseía 170,468 acciones del fabricante de iPhone después de adquirir 5,086 acciones adicionales durante ...\n",
            "**Sentimiento:** 🟢 (Positivo, Score: 0.875)\n",
            "\n",
            "--- Noticia 12 ---\n",
            "**Título (Original):** Johnson Bixby & Associates LLC Sells 619 Shares of Apple Inc. (NASDAQ:AAPL)\n",
            "**Título (Español):** Johnson Bixby & Associates LLC vende 619 acciones de Apple Inc. (NASDAQ: AAPL)\n",
            "**Resumen (Original):** Johnson Bixby & Associates LLC trimmed its position in shares of Apple Inc. (NASDAQ:AAPL – Free Report) by 1.5% during the 4th quarter, according to its most recent 13F filing with the Securities and Exchange Commission (SEC). The firm owned 39,566 shares of …\n",
            "**Resumen (Español):** Johnson Bixby & Associates LLC recortó su posición en las acciones de Apple Inc. (NASDAQ: AAPL - Informe gratuito) en un 1,5% durante el cuarto trimestre, según su presentación más reciente de 13F ante la Comisión de Bolsa y Valores (SEC).La firma poseía 39,566 acciones de ...\n",
            "**Sentimiento:** 🟢 (Positivo, Score: 0.8779)\n",
            "\n",
            "--- Noticia 13 ---\n",
            "**Título (Original):** Carmel Capital Management L.L.C. Has $13.88 Million Holdings in Apple Inc. (NASDAQ:AAPL)\n",
            "**Título (Español):** Carmel Capital Management L.L.C.Tiene $ 13.88 millones de tenencias en Apple Inc. (NASDAQ: AAPL)\n",
            "**Resumen (Original):** Carmel Capital Management L.L.C. cut its position in Apple Inc. (NASDAQ:AAPL – Free Report) by 2.5% in the 4th quarter, Holdings Channel reports. The institutional investor owned 55,412 shares of the iPhone maker’s stock after selling 1,435 shares during the …\n",
            "**Resumen (Español):** Carmel Capital Management L.L.C.Cortar su posición en Apple Inc. (NASDAQ: AAPL - Informe gratuito) en un 2.5% en el cuarto trimestre, informa Holdings Channel.El inversor institucional poseía 55,412 acciones del fabricante de iPhone después de vender 1,435 acciones durante ...\n",
            "**Sentimiento:** 🟢 (Positivo, Score: 0.6808)\n",
            "\n",
            "--- Noticia 14 ---\n",
            "**Título (Original):** McGlone Suttner Wealth Management Inc. Acquires 1,894 Shares of Apple Inc. (NASDAQ:AAPL)\n",
            "**Título (Español):** McGlone Suttner Wealth Management Inc. adquiere 1,894 acciones de Apple Inc. (NASDAQ: AAPL)\n",
            "**Resumen (Original):** McGlone Suttner Wealth Management Inc. grew its holdings in shares of Apple Inc. (NASDAQ:AAPL – Free Report) by 9.6% in the 4th quarter, according to its most recent disclosure with the SEC. The fund owned 21,594 shares of the iPhone maker’s stock after purch…\n",
            "**Resumen (Español):** McGlone Suttner Wealth Management Inc. aumentó sus participaciones en acciones de Apple Inc. (NASDAQ: AAPL - Informe gratuito) en un 9,6% en el cuarto trimestre, según su divulgación más reciente con la Sec.El Fondo poseía 21,594 acciones del fabricante de iPhone después de comprar ...\n",
            "**Sentimiento:** 🟢 (Positivo, Score: 0.936)\n",
            "\n",
            "--- Noticia 15 ---\n",
            "**Título (Original):** Patriot Investment Management Group Inc. Reduces Stake in Apple Inc. (NASDAQ:AAPL)\n",
            "**Título (Español):** Patriot Investment Management Group Inc. reduce la participación en Apple Inc. (NASDAQ: AAPL)\n",
            "**Resumen (Original):** Patriot Investment Management Group Inc. cut its stake in Apple Inc. (NASDAQ:AAPL – Free Report) by 2.9% in the fourth quarter, Holdings Channel reports. The fund owned 37,841 shares of the iPhone maker’s stock after selling 1,116 shares during the period. Ap…\n",
            "**Resumen (Español):** Patriot Investment Management Group Inc. redujo su participación en Apple Inc. (NASDAQ: AAPL - Informe gratuito) en un 2.9% en el cuarto trimestre, informa Holdings Channel.El Fondo poseía 37,841 acciones de las acciones del fabricante de iPhone después de vender 1,116 acciones durante el período.AP ...\n",
            "**Sentimiento:** 🟢 (Positivo, Score: 0.6808)\n",
            "\n",
            "--- Noticia 16 ---\n",
            "**Título (Original):** Apple Inc. (NASDAQ:AAPL) Shares Sold by Rappaport Reiches Capital Management LLC\n",
            "**Título (Español):** Acciones de Apple Inc. (NASDAQ: AAPL) vendidas por Rappaport Reiches Capital Management LLC\n",
            "**Resumen (Original):** Rappaport Reiches Capital Management LLC decreased its stake in Apple Inc. (NASDAQ:AAPL – Free Report) by 0.3% during the 4th quarter, HoldingsChannel reports. The firm owned 105,045 shares of the iPhone maker’s stock after selling 313 shares during the perio…\n",
            "**Resumen (Español):** Rappaport Reiches Capital Management LLC disminuyó su participación en Apple Inc. (NASDAQ: AAPL - Informe gratuito) en un 0.3% durante el cuarto trimestre, informa HoldingsChannel.La firma poseía 105,045 acciones del fabricante de iPhone después de vender 313 acciones durante el Perio ...\n",
            "**Sentimiento:** 🟢 (Positivo, Score: 0.836)\n",
            "\n",
            "--- Noticia 17 ---\n",
            "**Título (Original):** Sound Income Strategies LLC Boosts Stock Position in Apple Inc. (NASDAQ:AAPL)\n",
            "**Título (Español):** Sound Income Strategies LLC aumenta la posición de stock en Apple Inc. (NASDAQ: AAPL)\n",
            "**Resumen (Original):** Sound Income Strategies LLC increased its holdings in shares of Apple Inc. (NASDAQ:AAPL – Free Report) by 0.2% during the fourth quarter, according to its most recent filing with the Securities and Exchange Commission (SEC). The institutional investor owned 8…\n",
            "**Resumen (Español):** Sound Income Strategies LLC aumentó sus participaciones en acciones de Apple Inc. (NASDAQ: AAPL - Informe gratuito) en un 0.2% durante el cuarto trimestre, según su presentación más reciente ante la Comisión de Bolsa y Valores (SEC).El inversor institucional poseía 8 ...\n",
            "**Sentimiento:** 🟢 (Positivo, Score: 0.8779)\n",
            "\n",
            "--- Noticia 18 ---\n",
            "**Título (Original):** Best Technology Stocks To Add to Your Watchlist – March 14th\n",
            "**Título (Español):** Las mejores acciones tecnológicas para agregar a su lista de observación - 14 de marzo\n",
            "**Resumen (Original):** NVIDIA, Apple, Meta Platforms, Microsoft, Alphabet, Broadcom, and D-Wave Quantum are the seven Technology stocks to watch today, according to MarketBeat’s stock screener tool. Technology stocks refer to shares in companies that operate within the technology s…\n",
            "**Resumen (Español):** Nvidia, Apple, Meta Platforms, Microsoft, Alphabet, Broadcom y D-Wave Quantum son las siete acciones de tecnología para ver hoy, según la herramienta de sesor de acciones de Marketbeat.Las acciones de tecnología se refieren a acciones de empresas que operan dentro de la tecnología S ...\n",
            "**Sentimiento:** 🟢 (Positivo, Score: 0.7506)\n",
            "\n",
            "--- Noticia 19 ---\n",
            "**Título (Original):** GraniteShares 2x Long AAPL Daily ETF (NASDAQ:AAPB) Sees Large Decline in Short Interest\n",
            "**Título (Español):** Graniteshares 2x Long AAPL Daily ETF (NASDAQ: AAPB) ve una gran disminución en breve interés\n",
            "**Resumen (Original):** GraniteShares 2x Long AAPL Daily ETF (NASDAQ:AAPB – Get Free Report) saw a large decline in short interest during the month of February. As of February 28th, there was short interest totalling 19,500 shares, a decline of 41.6% from the February 13th total of …\n",
            "**Resumen (Español):** Graniteshares 2x Long AAPL Daily ETF (NASDAQ: AAPB - Obtenga el informe gratuito) vio una gran disminución en corto interés durante el mes de febrero.A partir del 28 de febrero, había un interés corto por un total de 19,500 acciones, una disminución del 41,6% del total del 13 de febrero de ...\n",
            "**Sentimiento:** 🟢 (Positivo, Score: 0.926)\n",
            "\n",
            "--- Noticia 20 ---\n",
            "**Título (Original):** Apple Silicon Mac上で自動話者認識をサポートしたAI文字起こしアプリ「MacWhisper/Whisper Transcription Pro v12.0」がリリース。\n",
            "**Título (Español):** La aplicación de transcripción AI \"MacWhisper/Whisper Transcription Pro V12.0\" que admite el reconocimiento automático de altavoces en Apple Silicon Macs.\n",
            "**Resumen (Original):** オンデバイスで自動話者認識をサポートしたAI文字起こしアプリ「MacWhisper/Whisper Transcription Pro v12.0」がリリースされています。詳細は以下から。 　MacWhisper(Ma […]\n",
            "The post Apple Silicon Mac上で自動話者認識をサポートしたAI文字起こしアプリ「MacWhisper/Whisper Transcription Pro v12.0」がリリース。 first appeared on AAPL Ch..\n",
            "**Resumen (Español):** Se ha lanzado la aplicación de transcripción AI \"MacWhisper/Whisper Transcription Pro V12.0\", que admite el reconocimiento automático de los altavoces en el dispositivo.Para más detalles, consulte a continuación.MacWhisper (MA [...]\n",
            "La publicación de Apple Silicon, la aplicación de transcripción AI \"MacWhisper/Whisper Transcription Pro V12.0\" que admite el reconocimiento automático de altavoces en Macs.Primero apareció en AAPL CH ..\n",
            "**Sentimiento:** ⚪ (Neutral, Score: 0.0)\n",
            "\n",
            "--- Noticia 21 ---\n",
            "**Título (Original):** Is now the perfect time to buy the BetaShares NASDAQ 100 ETF (NDQ)?\n",
            "**Título (Español):** ¿Es ahora el momento perfecto para comprar el ETF NASDAQ 100 ETF (NDQ) de Betashares?\n",
            "**Resumen (Original):** Is this a rare buying opportunity for Aussie investors?\n",
            "The post Is now the perfect time to buy the BetaShares NASDAQ 100 ETF (NDQ)? appeared first on The Motley Fool Australia.\n",
            "**Resumen (Español):** ¿Es esta una rara oportunidad de compra para los inversores australianos?\n",
            "¿La publicación ahora es el momento perfecto para comprar el betashares nasdaq 100 ETF (NDQ)?Apareció primero en The Motley Fool Australia.\n",
            "**Sentimiento:** 🟢 (Positivo, Score: 0.8334)\n",
            "\n",
            "--- Noticia 22 ---\n",
            "**Título (Original):** Don’t do anything about your 401(k) until Tuesday\n",
            "**Título (Español):** No hagas nada sobre tu 401 (k) hasta el martes\n",
            "**Resumen (Original):** This key report should drop then.\n",
            "**Resumen (Español):** Este informe clave debería caer entonces.\n",
            "**Sentimiento:** 🔴 (Negativo, Score: -0.2732)\n",
            "\n",
            "--- Noticia 23 ---\n",
            "**Título (Original):** Apple is quietly planning to add genius new feature to AirPods\n",
            "**Título (Español):** Apple planea en silencio agregar una nueva característica de genio a AirPods\n",
            "**Resumen (Original):** It is no secret that Apple (AAPL) recently hit a rough patch as many consumers across the country are dodging iPhone upgrades while they battle inflation and higher costs of living.\n",
            "A new iPhone can cost as much as $1,100 or more, and according to a recent su…\n",
            "**Resumen (Español):** No es ningún secreto que Apple (AAPL) recientemente alcanzó un mal estado, ya que muchos consumidores en todo el país esquivan las actualizaciones de iPhone mientras luchan contra la inflación y los costos de vida más altos.\n",
            "Un nuevo iPhone puede costar hasta $ 1,100 o más, y según un SU reciente ...\n",
            "**Sentimiento:** 🔴 (Negativo, Score: -0.6369)\n",
            "\n",
            "--- Noticia 24 ---\n",
            "**Título (Original):** Amazon pays Trump, Intel's new CEO, and China's AI agent: Tech news roundup\n",
            "**Título (Español):** Amazon paga a Trump, el nuevo CEO de Intel y el agente de IA de China: Roundup de noticias tecnológicas\n",
            "**Resumen (Original):** In the past year, artificial intelligence leaders have talked about the advent of agents that can do work autonomously. Now, China says it has developed the world’s first. Read more...\n",
            "**Resumen (Español):** En el último año, los líderes de inteligencia artificial han hablado sobre el advenimiento de los agentes que pueden funcionar de forma autónoma.Ahora, China dice que ha desarrollado el primero del mundo.Leer más...\n",
            "**Sentimiento:** 🟢 (Positivo, Score: 0.5859)\n",
            "\n",
            "--- Noticia 25 ---\n",
            "**Título (Original):** Jim Cramer on Apple Inc. (AAPL): ‘I Hear That People Are Cutting Back’\n",
            "**Título (Español):** Jim Cramer en Apple Inc. (AAPL): \"Escuché que la gente está recortando\"\n",
            "**Resumen (Original):** None\n",
            "**Resumen (Español):** N/A\n",
            "**Sentimiento:** 🔴 (Negativo, Score: -0.128)\n",
            "\n",
            "--- Noticia 26 ---\n",
            "**Título (Original):** Apple M4チップ搭載のMacBook AirやM3 Ultra/M4 Maxチップ搭載のMac Studio (2025)の温度センサーやファン制御に対応したシステムモニタアプリ「TG Pro v2.96」がリリース。\n",
            "**Título (Español):** Se ha lanzado la aplicación TG Pro V2.96 System Monitor que admite sensores de temperatura y control del ventilador para MacBook Air con Chips Apple M4 y Mac Studio (2025) con chips M3 Ultra/M4 Max.\n",
            "**Resumen (Original):** Apple M4チップ搭載のMacBook AirやM3 Ultra/M4 Maxチップ搭載のMac Studio (2025)の温度センサーやファン制御に対応したシステムモニタアプリ「TG Pro v2.96」がリリ […]\n",
            "The post Apple M4チップ搭載のMacBook AirやM3 Ultra/M4 Maxチップ搭載のMac Studio (2025)の温度センサーやファン制御に対応したシステムモニタアプリ「TG Pro v2.96」がリリース。 first appeared on AAPL …\n",
            "**Resumen (Español):** La aplicación System Monitor \"TG Pro V2.96\" admite sensores de temperatura y control del ventilador para MacBook Air con Apple M4 Chips y Mac Studio (2025) con chips M3 Ultra/M4 Max [...]\n",
            "Se ha lanzado Post TG Pro V2.96, una aplicación de monitor de sistema que admite sensores de temperatura y controles de ventilador para MacBook Air con Chips Apple M4 y Mac Studio (2025) con chips M3 Ultra/M4 Max.Primero apareció en AAPL ...\n",
            "**Sentimiento:** ⚪ (Neutral, Score: 0.0)\n",
            "\n",
            "--- Noticia 27 ---\n",
            "**Título (Original):** streamlit-lightweight-charts-v5 added to PyPI\n",
            "**Título (Español):** gráficos de peso aerodinámico-v5 agregado a PYPI\n",
            "**Resumen (Original):** Streamlit component that allows you to view v5 Lightweight Charts\n",
            "**Resumen (Español):** Componente de transmisión a paso de transmisión que le permite ver gráficos livianos V5\n",
            "**Sentimiento:** ⚪ (Neutral, Score: 0.0)\n",
            "\n",
            "--- Noticia 28 ---\n",
            "**Título (Original):** Apple Scrambles To Fix Siri's AI Failures After Public Misstep—Top Executive Admits Marketing It Too Soon Made Things Worse\n",
            "**Título (Español):** Apple lucha para arreglar los fracasos de inteligencia artificial de Siri después de la paso en falso público: el ejecutivo de la TOP admite que comercializarlo demasiado pronto empeoró las cosas\n",
            "**Resumen (Original):** Apple is scrambling to fix delayed and underperforming AI-powered Siri features after prematurely marketing them, with a top executive admitting the situation is \"ugly and embarrassing\" and raising doubts about the company's ability to compete in the fast-mov…\n",
            "**Resumen (Español):** Apple está luchando por arreglar las características de Siri retrasadas y de bajo rendimiento de IA después de comercializarlas prematuramente, con un alto ejecutivo que admite que la situación es \"fea y vergonzosa\" y planteando dudas sobre la capacidad de la compañía para competir en el movimiento rápido ...\n",
            "**Sentimiento:** 🔴 (Negativo, Score: -0.8689)\n",
            "\n",
            "--- Noticia 29 ---\n",
            "**Título (Original):** Apple Inc. (NASDAQ:AAPL) Shares Sold by Veracity Capital LLC\n",
            "**Título (Español):** Acciones de Apple Inc. (NASDAQ: AAPL) vendidas por Veracity Capital LLC\n",
            "**Resumen (Original):** Veracity Capital LLC reduced its position in shares of Apple Inc. (NASDAQ:AAPL – Free Report) by 1.2% in the 4th quarter, HoldingsChannel reports. The firm owned 36,173 shares of the iPhone maker’s stock after selling 456 shares during the period. Apple accou…\n",
            "**Resumen (Español):** Veracity Capital LLC redujo su posición en las acciones de Apple Inc. (NASDAQ: AAPL - Informe gratuito) en un 1,2% en el cuarto trimestre, informa HoldingsChannel.La firma poseía 36,173 acciones del fabricante de iPhone después de vender 456 acciones durante el período.Apple Accou ...\n",
            "**Sentimiento:** 🟢 (Positivo, Score: 0.8779)\n",
            "\n",
            "--- Noticia 30 ---\n",
            "**Título (Original):** Lincoln Capital Corp Reduces Stock Holdings in Apple Inc. (NASDAQ:AAPL)\n",
            "**Título (Español):** Lincoln Capital Corp reduce las existencias en Apple Inc. (NASDAQ: AAPL)\n",
            "**Resumen (Original):** Lincoln Capital Corp trimmed its position in Apple Inc. (NASDAQ:AAPL – Free Report) by 0.3% in the fourth quarter, HoldingsChannel reports. The firm owned 60,548 shares of the iPhone maker’s stock after selling 175 shares during the quarter. Apple accounts fo…\n",
            "**Resumen (Español):** Lincoln Capital Corp recortó su posición en Apple Inc. (NASDAQ: AAPL - Informe gratuito) en un 0.3% en el cuarto trimestre, informa HoldingsChannel.La firma poseía 60,548 acciones del fabricante de iPhone después de vender 175 acciones durante el trimestre.Cuentas de manzana para ...\n",
            "**Sentimiento:** 🟢 (Positivo, Score: 0.7717)\n",
            "\n",
            "## Resumen Global\n",
            "- Total de noticias analizadas: 30\n",
            "- Positivas: 20 (66.67%)\n",
            "- Negativas: 6 (20.00%)\n",
            "- Neutrales: 4 (13.33%)\n",
            "- Promedio del compound score: 0.43\n"
          ]
        }
      ]
    },
    {
      "cell_type": "markdown",
      "source": [
        "## Preprocesamiento de Texto\n",
        "\n",
        "En este bloque se implementa un preprocesamiento básico para limpiar y normalizar el texto de las noticias.\n",
        "Se realizan las siguientes acciones:\n",
        "- Conversión del texto a minúsculas.\n",
        "- Eliminación de signos de puntuación y caracteres especiales.\n",
        "- Reducción de espacios múltiples a un solo espacio.\n",
        "\n",
        "Esto ayuda a mejorar la calidad del análisis de sentimiento y otros procesos posteriores."
      ],
      "metadata": {
        "id": "FRUKBZWR7SLz"
      }
    },
    {
      "cell_type": "code",
      "source": [
        "import re\n",
        "\n",
        "def preprocess_text(text):\n",
        "    \"\"\"\n",
        "    Función para limpiar y normalizar el texto:\n",
        "    - Convierte el texto a minúsculas.\n",
        "    - Elimina signos de puntuación y caracteres especiales.\n",
        "    - Elimina espacios extra.\n",
        "    \"\"\"\n",
        "    if not text:\n",
        "        return \"\"\n",
        "    # Convertir a minúsculas\n",
        "    text = text.lower()\n",
        "    # Eliminar signos de puntuación y caracteres especiales (se conservan caracteres alfanuméricos y espacios)\n",
        "    text = re.sub(r'[^a-záéíóúñü0-9\\s]', '', text)\n",
        "    # Eliminar espacios múltiples\n",
        "    text = re.sub(r'\\s+', ' ', text).strip()\n",
        "    return text\n",
        "\n",
        "def preprocess_articles(articles):\n",
        "    \"\"\"\n",
        "    Aplica el preprocesamiento al título y resumen de cada noticia.\n",
        "    Se agregan nuevas claves 'title_clean' y 'description_clean' a cada diccionario.\n",
        "    \"\"\"\n",
        "    for article in articles:\n",
        "        article[\"title_clean\"] = preprocess_text(article.get(\"title\"))\n",
        "        article[\"description_clean\"] = preprocess_text(article.get(\"description\"))\n",
        "    return articles\n",
        "\n",
        "# Preprocesamos las noticias ya obtenidas\n",
        "articles = preprocess_articles(articles)\n",
        "\n",
        "# Ejemplo: Mostrar el título original y el título limpio de la primera noticia\n",
        "if articles:\n",
        "    print(\"Ejemplo de preprocesamiento:\")\n",
        "    print(\"Título original:\", articles[0].get(\"title\", \"N/A\"))\n",
        "    print(\"Título limpio:\", articles[0].get(\"title_clean\", \"N/A\"))"
      ],
      "metadata": {
        "colab": {
          "base_uri": "https://localhost:8080/"
        },
        "id": "Y7iwv8Zw6cI0",
        "outputId": "05d6d5f8-d190-470e-c4c2-d98230e93105"
      },
      "execution_count": 35,
      "outputs": [
        {
          "output_type": "stream",
          "name": "stdout",
          "text": [
            "Ejemplo de preprocesamiento:\n",
            "Título original: Is Apple Inc. (AAPL) the Best Quality Stock to Invest in Now?\n",
            "Título limpio: is apple inc aapl the best quality stock to invest in now\n"
          ]
        }
      ]
    },
    {
      "cell_type": "markdown",
      "source": [
        "## Análisis Temporal de las Noticias\n",
        "\n",
        "En este bloque se procesa la fecha de publicación de cada noticia usando el campo \"publishedAt\" proporcionado por NewsAPI.\n",
        "Se extrae la fecha en formato \"YYYY-MM-DD\" y se almacena en un nuevo campo \"published_date\".\n",
        "Luego, se cuenta la cantidad de noticias publicadas por cada día, lo que nos permite entender la distribución temporal de las noticias."
      ],
      "metadata": {
        "id": "TN8a-1sw7KXC"
      }
    },
    {
      "cell_type": "code",
      "source": [
        "from datetime import datetime\n",
        "from collections import Counter\n",
        "\n",
        "def process_dates(articles):\n",
        "    \"\"\"\n",
        "    Extrae y formatea la fecha de publicación (publishedAt) de cada noticia.\n",
        "    Se agrega un nuevo campo 'published_date' con el formato 'YYYY-MM-DD'.\n",
        "    \"\"\"\n",
        "    for article in articles:\n",
        "        published_at = article.get(\"publishedAt\", \"\")\n",
        "        if published_at:\n",
        "            try:\n",
        "                # Convertir a objeto datetime (se reemplaza la 'Z' por '+00:00' para compatibilidad)\n",
        "                dt = datetime.fromisoformat(published_at.replace(\"Z\", \"+00:00\"))\n",
        "                # Guardar solo la fecha en formato YYYY-MM-DD\n",
        "                article[\"published_date\"] = dt.date().isoformat()\n",
        "            except Exception as e:\n",
        "                article[\"published_date\"] = \"Fecha no válida\"\n",
        "        else:\n",
        "            article[\"published_date\"] = \"N/A\"\n",
        "    return articles\n",
        "\n",
        "def temporal_analysis(articles):\n",
        "    \"\"\"\n",
        "    Realiza un análisis temporal contando la cantidad de noticias publicadas por cada fecha.\n",
        "    Imprime un resumen en formato markdown mostrando la distribución de las noticias.\n",
        "    \"\"\"\n",
        "    # Extraer las fechas de publicación válidas\n",
        "    dates = [article.get(\"published_date\", \"N/A\") for article in articles if article.get(\"published_date\") not in [\"N/A\", \"Fecha no válida\"]]\n",
        "    if dates:\n",
        "        date_counts = Counter(dates)\n",
        "        print(\"## Análisis Temporal de las Noticias\")\n",
        "        for date, count in sorted(date_counts.items()):\n",
        "            print(f\"- {date}: {count} noticia(s)\")\n",
        "    else:\n",
        "        print(\"No se pudieron procesar las fechas de publicación de las noticias.\")\n",
        "\n",
        "# Procesamos las fechas de publicación en las noticias\n",
        "articles = process_dates(articles)\n",
        "\n",
        "# Realizamos y mostramos el análisis temporal\n",
        "temporal_analysis(articles)"
      ],
      "metadata": {
        "colab": {
          "base_uri": "https://localhost:8080/"
        },
        "id": "eMguo62t6cC0",
        "outputId": "74773bc5-4bba-488c-ad79-e21f3f1bdc1f"
      },
      "execution_count": 36,
      "outputs": [
        {
          "output_type": "stream",
          "name": "stdout",
          "text": [
            "## Análisis Temporal de las Noticias\n",
            "- 2025-03-15: 10 noticia(s)\n",
            "- 2025-03-16: 20 noticia(s)\n"
          ]
        }
      ]
    },
    {
      "cell_type": "markdown",
      "source": [
        "## Visualización Gráfica del Análisis Temporal\n",
        "En este bloque se crea un gráfico de barras utilizando matplotlib para representar la cantidad de noticias publicadas por fecha.\n",
        "Se extraen las fechas válidas del campo \"published_date\", se cuentan las ocurrencias y se generan las barras correspondientes.\n",
        "Este gráfico permite visualizar de forma intuitiva la distribución temporal de las noticias."
      ],
      "metadata": {
        "id": "7zfSleMf7AGo"
      }
    },
    {
      "cell_type": "code",
      "source": [
        "import matplotlib.pyplot as plt\n",
        "from collections import Counter\n",
        "\n",
        "def plot_temporal_analysis(articles):\n",
        "    # Extraer fechas válidas\n",
        "    dates = [article.get(\"published_date\") for article in articles if article.get(\"published_date\") not in [\"N/A\", \"Fecha no válida\"]]\n",
        "    if not dates:\n",
        "        print(\"No se encontraron fechas válidas para graficar.\")\n",
        "        return\n",
        "\n",
        "    # Contar la cantidad de noticias por cada fecha\n",
        "    date_counts = Counter(dates)\n",
        "\n",
        "    # Ordenar las fechas para una visualización coherente\n",
        "    sorted_dates = sorted(date_counts.keys())\n",
        "    counts = [date_counts[date] for date in sorted_dates]\n",
        "\n",
        "    # Crear el gráfico de barras\n",
        "    plt.figure(figsize=(10, 6))\n",
        "    plt.bar(sorted_dates, counts, color='skyblue')\n",
        "    plt.xlabel(\"Fecha de Publicación\")\n",
        "    plt.ylabel(\"Cantidad de Noticias\")\n",
        "    plt.title(\"Distribución Temporal de las Noticias\")\n",
        "    plt.xticks(rotation=45)\n",
        "    plt.tight_layout()\n",
        "    plt.show()\n",
        "\n",
        "# Ejecutar la función para mostrar el gráfico\n",
        "plot_temporal_analysis(articles)"
      ],
      "metadata": {
        "colab": {
          "base_uri": "https://localhost:8080/",
          "height": 607
        },
        "id": "ifXgwWq-6b9s",
        "outputId": "a8be78cf-99fd-411d-8614-0144511931c0"
      },
      "execution_count": 37,
      "outputs": [
        {
          "output_type": "display_data",
          "data": {
            "text/plain": [
              "<Figure size 1000x600 with 1 Axes>"
            ],
            "image/png": "[encoded data removed]"
          },
          "metadata": {}
        }
      ]
    },
    {
      "cell_type": "markdown",
      "source": [
        "## Análisis de Sentimiento Temporal\n",
        "\n",
        "En este bloque se realiza el análisis del sentimiento a lo largo del tiempo.\n",
        "Se agrupan las noticias por su fecha de publicación (campo \"published_date\") y se calcula:\n",
        "- La cantidad de noticias positivas, neutrales y negativas por fecha.\n",
        "- El promedio del compound score para cada fecha.\n",
        "\n",
        "Se generan dos gráficos:\n",
        "1. Un gráfico de barras apiladas que muestra la distribución de sentimientos.\n",
        "2. Un gráfico de línea que muestra el promedio del compound score a lo largo del tiempo."
      ],
      "metadata": {
        "id": "yplfqemD6ysH"
      }
    },
    {
      "cell_type": "code",
      "source": [
        "import matplotlib.pyplot as plt\n",
        "from collections import defaultdict\n",
        "\n",
        "# Inicializamos diccionarios para contar sentimientos y acumular scores\n",
        "sentiment_counts = defaultdict(lambda: {\"Positivo\": 0, \"Negativo\": 0, \"Neutral\": 0})\n",
        "compound_sum = defaultdict(float)\n",
        "article_count = defaultdict(int)\n",
        "\n",
        "# Procesamos cada noticia\n",
        "for article in articles:\n",
        "    date = article.get(\"published_date\")\n",
        "    if date and date not in [\"N/A\", \"Fecha no válida\"]:\n",
        "        sentiment = article.get(\"sentiment\")\n",
        "        sentiment_counts[date][sentiment] += 1\n",
        "        compound_sum[date] += article.get(\"sentiment_score\", 0)\n",
        "        article_count[date] += 1\n",
        "\n",
        "# Ordenamos las fechas para la visualización\n",
        "sorted_dates = sorted(sentiment_counts.keys())\n",
        "\n",
        "# Extraemos los datos para cada fecha\n",
        "positive_counts = [sentiment_counts[date][\"Positivo\"] for date in sorted_dates]\n",
        "neutral_counts  = [sentiment_counts[date][\"Neutral\"] for date in sorted_dates]\n",
        "negative_counts = [sentiment_counts[date][\"Negativo\"] for date in sorted_dates]\n",
        "average_compound = [compound_sum[date] / article_count[date] for date in sorted_dates]\n",
        "\n",
        "# Creamos dos subplots: uno para el gráfico de barras apiladas y otro para el promedio del compound score\n",
        "fig, axs = plt.subplots(1, 2, figsize=(14, 6))\n",
        "\n",
        "# Gráfico 1: Barras apiladas de la distribución de sentimientos\n",
        "axs[0].bar(sorted_dates, positive_counts, color=\"green\", label=\"Positivo\")\n",
        "axs[0].bar(sorted_dates, neutral_counts, bottom=positive_counts, color=\"gray\", label=\"Neutral\")\n",
        "bottom_neg = [p + n for p, n in zip(positive_counts, neutral_counts)]\n",
        "axs[0].bar(sorted_dates, negative_counts, bottom=bottom_neg, color=\"red\", label=\"Negativo\")\n",
        "axs[0].set_xlabel(\"Fecha\")\n",
        "axs[0].set_ylabel(\"Cantidad de Noticias\")\n",
        "axs[0].set_title(\"Distribución Temporal del Sentimiento\")\n",
        "axs[0].legend()\n",
        "\n",
        "# Gráfico 2: Línea del promedio del compound score por fecha\n",
        "axs[1].plot(sorted_dates, average_compound, marker='o', color=\"blue\")\n",
        "axs[1].set_xlabel(\"Fecha\")\n",
        "axs[1].set_ylabel(\"Promedio del Compound Score\")\n",
        "axs[1].set_title(\"Promedio del Sentimiento (Compound Score)\")\n",
        "axs[1].axhline(0, color=\"black\", linestyle=\"--\", linewidth=0.5)\n",
        "\n",
        "# Rotar etiquetas en el eje x para una mejor legibilidad\n",
        "for ax in axs:\n",
        "    ax.tick_params(axis='x', rotation=45)\n",
        "\n",
        "plt.tight_layout()\n",
        "plt.show()"
      ],
      "metadata": {
        "colab": {
          "base_uri": "https://localhost:8080/",
          "height": 607
        },
        "id": "Y_rKa7176bxW",
        "outputId": "5d290636-993f-4220-8f93-c4b7ce0a8d32"
      },
      "execution_count": 38,
      "outputs": [
        {
          "output_type": "display_data",
          "data": {
            "text/plain": [
              "<Figure size 1400x600 with 2 Axes>"
            ],
            "image/png": "[encoded data removed]"
          },
          "metadata": {}
        }
      ]
    }
  ]
}