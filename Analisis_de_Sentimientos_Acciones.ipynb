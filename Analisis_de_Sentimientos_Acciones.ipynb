{
  "nbformat": 4,
  "nbformat_minor": 0,
  "metadata": {
    "colab": {
      "provenance": [],
      "authorship_tag": "ABX9TyPGLV5Nei1ez5K/+caS49zW",
      "include_colab_link": true
    },
    "kernelspec": {
      "name": "python3",
      "display_name": "Python 3"
    },
    "language_info": {
      "name": "python"
    }
  },
  "cells": [
    {
      "cell_type": "markdown",
      "metadata": {
        "id": "view-in-github",
        "colab_type": "text"
      },
      "source": [
        "<a href=\"https://colab.research.google.com/github/FaQ2108/Personal_Projects/blob/main/Analisis_de_Sentimientos_Acciones.ipynb\" target=\"_parent\"><img src=\"https://colab.research.google.com/assets/colab-badge.svg\" alt=\"Open In Colab\"/></a>"
      ]
    },
    {
      "cell_type": "markdown",
      "source": [
        "# Proyecto de Análisis de Sentimiento para Noticias Financieras\n",
        "\n",
        "## Descripción General\n",
        "\n",
        "Este proyecto tiene como objetivo analizar el sentimiento de noticias financieras relacionadas con un ticker de acción específico. El análisis de sentimiento es una técnica del procesamiento del lenguaje natural que permite identificar y clasificar la polaridad (positiva, negativa o neutral) de un texto. Esta herramienta es especialmente útil para:\n",
        "\n",
        "- **Tomar Decisiones Informadas:** Comprender la percepción del mercado sobre una acción puede ser crucial para decisiones de inversión.\n",
        "- **Monitoreo de Tendencias:** Permite detectar cambios y tendencias en el sentimiento del mercado en tiempo real.\n",
        "- **Complemento al Análisis Tradicional:** Ofrece una dimensión adicional al análisis financiero convencional, proporcionando una visión más completa de la situación.\n",
        "\n",
        "El script desarrollado en este proyecto se ejecuta en Google Colab y está modularizado para facilitar su comprensión y mantenimiento. En resumen, el script realiza las siguientes tareas:\n",
        "\n",
        "1. **Autenticación y Conexión a NewsAPI:** Solicita al usuario su API key de NewsAPI de forma segura, estableciendo la conexión para obtener noticias relevantes.\n",
        "2. **Selección del Ticker:** Permite al usuario ingresar el ticker de la acción que desea analizar.\n",
        "3. **Obtención de Noticias:** Recupera las últimas 10 noticias en inglés relacionadas con el ticker ingresado.\n",
        "4. **Traducción:** Traduce tanto el título como el resumen de cada noticia al español utilizando la librería `googletrans`.\n",
        "5. **Análisis de Sentimiento:** Utiliza el analizador VADER para evaluar el sentimiento de cada noticia, asignando etiquetas y emojis (🟢 para positivo, 🔴 para negativo y ⚪ para neutral).\n",
        "6. **Preprocesamiento de Texto:** Limpia y normaliza los textos para mejorar la calidad del análisis.\n",
        "7. **Análisis Temporal:** Procesa las fechas de publicación para visualizar la distribución de las noticias a lo largo del tiempo.\n",
        "8. **Visualización del Sentimiento Temporal:** Genera gráficos que muestran cómo varía el sentimiento a lo largo del tiempo, facilitando la identificación de tendencias y patrones.\n",
        "\n",
        "Este enfoque modular y detallado no solo permite evaluar el sentimiento individual de cada noticia, sino también analizar la evolución del sentimiento a lo largo del tiempo, lo que resulta en una herramienta robusta para comprender la percepción del mercado financiero."
      ],
      "metadata": {
        "id": "TqaoS4Qq7k4V"
      }
    },
    {
      "cell_type": "markdown",
      "source": [
        "## Autenticación y Conexión a NewsAPI\n",
        "\n",
        "En este bloque se solicita al usuario que ingrese su API key de NewsAPI de manera segura.\n",
        "\n",
        "Se utiliza `getpass.getpass()` para que la clave se oculte mientras se ingresa.\n",
        "Después, se muestra una versión en asteriscos de la clave para confirmar la entrada sin revelar la clave real.\n",
        "\n",
        "**Instrucciones:**\n",
        "1. Obtené tu API key en [NewsAPI](https://newsapi.org/).\n",
        "2. Ingresá tu clave cuando se te solicite.\n",
        "3. Verificá que la conexión se establezca correctamente."
      ],
      "metadata": {
        "id": "1aeKwnosx6Sq"
      }
    },
    {
      "cell_type": "code",
      "source": [
        "import requests\n",
        "import getpass\n",
        "\n",
        "# Solicitar la API key al usuario de forma oculta\n",
        "api_key = getpass.getpass(\"Ingresa tu API key de NewsAPI: \")\n",
        "\n",
        "# Mostrar la API key enmascarada (por privacidad)\n",
        "print(\"Tu API key es: \" + \"*\" * len(api_key))\n",
        "\n",
        "# Función para probar la conexión a NewsAPI\n",
        "def test_connection():\n",
        "    url = \"https://newsapi.org/v2/top-headlines\"\n",
        "    params = {\n",
        "        'q': 'finance',  # consulta genérica para probar la conexión\n",
        "        'apiKey': api_key,\n",
        "        'pageSize': 1  # solo se pide una noticia para la prueba\n",
        "    }\n",
        "    response = requests.get(url, params=params)\n",
        "    if response.status_code == 200:\n",
        "        print(\"Conexión a NewsAPI exitosa.\")\n",
        "    else:\n",
        "        print(\"Error en la conexión a NewsAPI. Revisa tu API key y la configuración.\")\n",
        "\n",
        "# Ejecutamos la función de prueba\n",
        "test_connection()"
      ],
      "metadata": {
        "colab": {
          "base_uri": "https://localhost:8080/"
        },
        "id": "z0w0TeaIx34D",
        "outputId": "52495945-0945-4644-f709-460840ef3c19"
      },
      "execution_count": 49,
      "outputs": [
        {
          "output_type": "stream",
          "name": "stdout",
          "text": [
            "Ingresa tu API key de NewsAPI: ··········\n",
            "Tu API key es: ********************************\n",
            "Conexión a NewsAPI exitosa.\n"
          ]
        }
      ]
    },
    {
      "cell_type": "markdown",
      "source": [
        "## Selección del Ticker\n",
        "\n",
        "En este bloque se le solicita al usuario que ingrese el ticker de la acción que desea analizar.\n",
        "El ticker es el identificador único de la acción en el mercado financiero.\n",
        "Se transforma a mayúsculas para mantener un formato estándar y se muestra una confirmación."
      ],
      "metadata": {
        "id": "TxRC7crL4bHK"
      }
    },
    {
      "cell_type": "code",
      "source": [
        "ticker = input(\"Ingresa el ticker de la acción que deseas analizar: \").upper().strip()\n",
        "print(f\"Analizando la acción: {ticker}\")"
      ],
      "metadata": {
        "colab": {
          "base_uri": "https://localhost:8080/"
        },
        "id": "JePMJwQ4yaNN",
        "outputId": "e713a6bd-04f5-43e7-ba91-340bb9b6a2d0"
      },
      "execution_count": 50,
      "outputs": [
        {
          "output_type": "stream",
          "name": "stdout",
          "text": [
            "Ingresa el ticker de la acción que deseas analizar: DOMO\n",
            "Analizando la acción: DOMO\n"
          ]
        }
      ]
    },
    {
      "cell_type": "markdown",
      "source": [
        "## Obtención de Noticias\n",
        "\n",
        "En este bloque se realiza la consulta a NewsAPI utilizando el ticker ingresado.\n",
        "Se utiliza el endpoint \"everything\" para obtener hasta 10 noticias relevantes en inglés,\n",
        "ordenadas por fecha de publicación.\n",
        "El resultado se guarda en una lista de diccionarios, donde cada uno contiene el título,\n",
        "resumen y URL de la noticia."
      ],
      "metadata": {
        "id": "IWMG-OAM4e0B"
      }
    },
    {
      "cell_type": "code",
      "source": [
        "def fetch_news(ticker, api_key):\n",
        "    url = \"https://newsapi.org/v2/everything\"\n",
        "    params = {\n",
        "        \"q\": ticker,\n",
        "        \"pageSize\": 30,          # Limitamos a las últimas X noticias\n",
        "        \"sortBy\": \"publishedAt\", # Ordenadas por fecha de publicación\n",
        "        \"language\": \"en\",        # Noticias en inglés (idioma original)\n",
        "        \"apiKey\": api_key\n",
        "    }\n",
        "    response = requests.get(url, params=params)\n",
        "    if response.status_code == 200:\n",
        "        data = response.json()\n",
        "        articles = data.get(\"articles\", [])\n",
        "        if articles:\n",
        "            print(f\"Se han obtenido {len(articles)} noticias para el ticker {ticker}.\")\n",
        "        else:\n",
        "            print(\"No se encontraron noticias para el ticker ingresado.\")\n",
        "        return articles\n",
        "    else:\n",
        "        print(\"Error al obtener las noticias. Verifica tu conexión o la API key.\")\n",
        "        return []\n",
        "\n",
        "# Ejemplo de uso:\n",
        "articles = fetch_news(ticker, api_key)"
      ],
      "metadata": {
        "colab": {
          "base_uri": "https://localhost:8080/"
        },
        "id": "aSfRzaKsykoF",
        "outputId": "f722714e-692e-4655-8285-5471f56819a1"
      },
      "execution_count": 51,
      "outputs": [
        {
          "output_type": "stream",
          "name": "stdout",
          "text": [
            "Se han obtenido 20 noticias para el ticker DOMO.\n"
          ]
        }
      ]
    },
    {
      "cell_type": "markdown",
      "source": [
        "## Traducción de Noticias\n",
        "\n",
        "En este bloque se traducen el título y el resumen (description) de cada noticia del inglés al español,\n",
        "utilizando la librería `googletrans`.\n",
        "Se añaden dos nuevas claves en cada diccionario: \"title_es\" y \"description_es\" para almacenar las traducciones."
      ],
      "metadata": {
        "id": "Km3Qbxpq4izp"
      }
    },
    {
      "cell_type": "code",
      "source": [
        "from googletrans import Translator\n",
        "\n",
        "# Inicializamos el traductor\n",
        "translator = Translator()\n",
        "\n",
        "def translate_news_articles(articles):\n",
        "    for article in articles:\n",
        "        # Traducir el título\n",
        "        if article.get(\"title\"):\n",
        "            translated_title = translator.translate(article[\"title\"], dest=\"es\").text\n",
        "            article[\"title_es\"] = translated_title\n",
        "        else:\n",
        "            article[\"title_es\"] = \"N/A\"\n",
        "\n",
        "        # Traducir el resumen/description\n",
        "        if article.get(\"description\"):\n",
        "            translated_description = translator.translate(article[\"description\"], dest=\"es\").text\n",
        "            article[\"description_es\"] = translated_description\n",
        "        else:\n",
        "            article[\"description_es\"] = \"N/A\"\n",
        "    return articles\n",
        "\n",
        "# Ejecutamos la traducción sobre las noticias obtenidas\n",
        "articles = translate_news_articles(articles)"
      ],
      "metadata": {
        "id": "aiNIMzH2y0cX"
      },
      "execution_count": 52,
      "outputs": []
    },
    {
      "cell_type": "markdown",
      "source": [
        "## Análisis de Sentimiento con VADER\n",
        "\n",
        "En este bloque se analiza el sentimiento de cada noticia utilizando VADER.\n",
        "Se evalúa una combinación del título y el resumen (description) para determinar si la noticia es\n",
        "positiva, negativa o neutral, usando los siguientes umbrales:\n",
        "- Compound score >= 0.05: Positivo (🟢)\n",
        "- Compound score <= -0.05: Negativo (🔴)\n",
        "- Valores intermedios: Neutral (⚪)\n",
        "\n",
        "Se añaden nuevas claves al diccionario de cada noticia: \"sentiment\", \"sentiment_score\" y \"sentiment_emoji\"."
      ],
      "metadata": {
        "id": "jR-eVR2i4kBZ"
      }
    },
    {
      "cell_type": "code",
      "source": [
        "import nltk\n",
        "nltk.download('vader_lexicon')\n",
        "from nltk.sentiment.vader import SentimentIntensityAnalyzer\n",
        "\n",
        "# Inicializamos el analizador de sentimientos\n",
        "sia = SentimentIntensityAnalyzer()\n",
        "\n",
        "def analyze_sentiment(articles):\n",
        "    for article in articles:\n",
        "        # Concatenamos título y resumen para formar el texto de análisis\n",
        "        text = \"\"\n",
        "        if article.get(\"title\"):\n",
        "            text += article[\"title\"]\n",
        "        if article.get(\"description\"):\n",
        "            text += \" \" + article[\"description\"]\n",
        "\n",
        "        sentiment = sia.polarity_scores(text)\n",
        "        compound = sentiment['compound']\n",
        "\n",
        "        # Clasificamos el sentimiento\n",
        "        if compound >= 0.05:\n",
        "            sentiment_label = \"Positivo\"\n",
        "            sentiment_emoji = \"🟢\"\n",
        "        elif compound <= -0.05:\n",
        "            sentiment_label = \"Negativo\"\n",
        "            sentiment_emoji = \"🔴\"\n",
        "        else:\n",
        "            sentiment_label = \"Neutral\"\n",
        "            sentiment_emoji = \"⚪\"\n",
        "\n",
        "        article[\"sentiment\"] = sentiment_label\n",
        "        article[\"sentiment_score\"] = compound\n",
        "        article[\"sentiment_emoji\"] = sentiment_emoji\n",
        "    return articles\n",
        "\n",
        "# Ejecutamos el análisis de sentimiento\n",
        "articles = analyze_sentiment(articles)"
      ],
      "metadata": {
        "colab": {
          "base_uri": "https://localhost:8080/"
        },
        "id": "a1POHKCqy9_w",
        "outputId": "e342f425-6e54-4d08-b7d9-d1e4ec0cabd7"
      },
      "execution_count": 53,
      "outputs": [
        {
          "output_type": "stream",
          "name": "stderr",
          "text": [
            "[nltk_data] Downloading package vader_lexicon to /root/nltk_data...\n",
            "[nltk_data]   Package vader_lexicon is already up-to-date!\n"
          ]
        }
      ]
    },
    {
      "cell_type": "markdown",
      "source": [
        "## En este bloque se muestran los resultados individuales de cada noticia, incluyendo:\n",
        "- Título y resumen en inglés (original) y en español (traducción).\n",
        "- El sentimiento determinado, representado con emojis.\n",
        "\n",
        "Además, se presenta un resumen global en formato markdown que incluye:\n",
        "- Total de noticias analizadas.\n",
        "- Cantidad y porcentaje de noticias positivas, negativas y neutrales.\n",
        "- Promedio del compound score."
      ],
      "metadata": {
        "id": "de3N4x124oeT"
      }
    },
    {
      "cell_type": "code",
      "source": [
        "def display_results(articles):\n",
        "    total = len(articles)\n",
        "    count_pos = sum(1 for a in articles if a[\"sentiment\"] == \"Positivo\")\n",
        "    count_neg = sum(1 for a in articles if a[\"sentiment\"] == \"Negativo\")\n",
        "    count_neu = sum(1 for a in articles if a[\"sentiment\"] == \"Neutral\")\n",
        "    avg_compound = sum(a[\"sentiment_score\"] for a in articles) / total if total > 0 else 0\n",
        "\n",
        "    # Mostrar cada noticia\n",
        "    for i, article in enumerate(articles, start=1):\n",
        "        print(f\"--- Noticia {i} ---\")\n",
        "        print(f\"**Título (Original):** {article.get('title', 'N/A')}\")\n",
        "        print(f\"**Título (Español):** {article.get('title_es', 'N/A')}\")\n",
        "        print(f\"**Resumen (Original):** {article.get('description', 'N/A')}\")\n",
        "        print(f\"**Resumen (Español):** {article.get('description_es', 'N/A')}\")\n",
        "        print(f\"**Sentimiento:** {article.get('sentiment_emoji')} ({article.get('sentiment')}, Score: {article.get('sentiment_score')})\\n\")\n",
        "\n",
        "    # Mostrar resumen global en formato markdown\n",
        "    print(\"## Resumen Global\")\n",
        "    print(f\"- Total de noticias analizadas: {total}\")\n",
        "    if total > 0:\n",
        "        print(f\"- Positivas: {count_pos} ({(count_pos/total*100):.2f}%)\")\n",
        "        print(f\"- Negativas: {count_neg} ({(count_neg/total*100):.2f}%)\")\n",
        "        print(f\"- Neutrales: {count_neu} ({(count_neu/total*100):.2f}%)\")\n",
        "        print(f\"- Promedio del compound score: {avg_compound:.2f}\")\n",
        "    else:\n",
        "        print(\"No se han obtenido noticias para analizar.\")\n",
        "\n",
        "# Ejecutamos la función para mostrar los resultados y el resumen global\n",
        "display_results(articles)"
      ],
      "metadata": {
        "colab": {
          "base_uri": "https://localhost:8080/"
        },
        "id": "dY9NmXWSzC7Q",
        "outputId": "6d47eefc-20ce-4019-c20d-3b5c98a2e456"
      },
      "execution_count": 54,
      "outputs": [
        {
          "output_type": "stream",
          "name": "stdout",
          "text": [
            "--- Noticia 1 ---\n",
            "**Título (Original):** Domo (NASDAQ:DOMO) Price Target Raised to $9.00\n",
            "**Título (Español):** El precio objetivo de Domo (NASDAQ: DOMO) recaudado a $ 9.00\n",
            "**Resumen (Original):** Domo (NASDAQ:DOMO – Free Report) had its price target lifted by Morgan Stanley from $7.00 to $9.00 in a research report report published on Thursday,Benzinga reports. The brokerage currently has an equal weight rating on the stock. Several other research firm…\n",
            "**Resumen (Español):** DOMO (NASDAQ: DOMO - Informe gratuito) Hizo que Morgan Stanley fuera elevado por Morgan Stanley de $ 7.00 a $ 9.00 en un informe de informe de investigación publicado el jueves, informa Benzinga.El corretaje actualmente tiene una calificación de igual peso en el stock.Varias otra firma de investigación ...\n",
            "**Sentimiento:** 🟢 (Positivo, Score: 0.5106)\n",
            "\n",
            "--- Noticia 2 ---\n",
            "**Título (Original):** DA Davidson Predicts Domo’s Q1 Earnings (NASDAQ:DOMO)\n",
            "**Título (Español):** Davidson predice las ganancias Q1 de Domo (NASDAQ: DOMO)\n",
            "**Resumen (Original):** Domo, Inc. (NASDAQ:DOMO – Free Report) – Equities research analysts at DA Davidson issued their Q1 2026 earnings per share estimates for shares of Domo in a report released on Monday, March 10th. DA Davidson analyst A. Platt anticipates that the company will …\n",
            "**Resumen (Español):** DOMO, Inc. (NASDAQ: DOMO - Informe gratuito) - Los analistas de investigación de renta variable de DA Davidson emitieron sus estimaciones de ganancias por acción del primer trimestre de 2026 por acciones de DOMO en un informe publicado el lunes 10 de marzo.El analista de DA Davidson A. Platt anticipa que la compañía ...\n",
            "**Sentimiento:** 🟢 (Positivo, Score: 0.7717)\n",
            "\n",
            "--- Noticia 3 ---\n",
            "**Título (Original):** Advanced Analytics Market Size to Surpass USD 554.3 Billion by 2032 Owing to Rising Adoption of AI-Powered Data Solutions | Research by SNS Insider\n",
            "**Título (Español):** Tamaño del mercado de análisis avanzado para superar los USD 554.3 mil millones para 2032 debido a la creciente adopción de soluciones de datos con IA |Investigación de SNS Insider\n",
            "**Resumen (Original):** The Advanced Analytics market is witnessing remarkable growth driven by the increasing demand for data-driven decision-making and real-time insights. The Advanced Analytics market is witnessing remarkable growth driven by the increasing demand for data-driven…\n",
            "**Resumen (Español):** El mercado de análisis avanzado es testigo de un crecimiento notable impulsado por la creciente demanda de toma de decisiones basada en datos y ideas en tiempo real.El mercado de análisis avanzado está presenciando un crecimiento notable impulsado por la creciente demanda de datos basados ​​en datos ...\n",
            "**Sentimiento:** 🟢 (Positivo, Score: 0.9442)\n",
            "\n",
            "--- Noticia 4 ---\n",
            "**Título (Original):** Domo (NASDAQ:DOMO) Upgraded at DA Davidson\n",
            "**Título (Español):** Domo (NASDAQ: DOMO) actualizado en DA Davidson\n",
            "**Resumen (Original):** DA Davidson upgraded shares of Domo (NASDAQ:DOMO – Free Report) to a hold rating in a research report sent to investors on Monday morning,Zacks.com reports. DA Davidson also issued estimates for Domo’s Q1 2026 earnings at ($0.54) EPS and FY2026 earnings at ($…\n",
            "**Resumen (Español):** DA Davidson mejoró las acciones de DOMO (NASDAQ: DOMO - Informe gratuito) a una calificación de retención en un informe de investigación enviado a los inversores el lunes por la mañana, informa Zacks.com.DA Davidson también emitió estimaciones para las ganancias del primer trimestre de Domo 2026 a las ganancias EPS ($ 0.54) EPS y FY2026 a ($ ...\n",
            "**Sentimiento:** 🟢 (Positivo, Score: 0.6705)\n",
            "\n",
            "--- Noticia 5 ---\n",
            "**Título (Original):** Altius Reports 2024 Attributable Royalty Revenue of $64.0M and Adjusted Earnings(1) of $12.7M\n",
            "**Título (Español):** Altius Reports 2024 Ingresos de regalías atribuibles de $ 64.0 millones y ganancias ajustadas (1) de $ 12.7M\n",
            "**Resumen (Original):** All references in thousands of Canadian dollars, except per share amounts, unless otherwise indicated ST. JOHN’S, Newfoundland — Altius Minerals Corporation (TSX: ALS; OTCQX: ATUSF) (“Altius” or the “Corporation”) reports full year revenue of $58.2 million co…\n",
            "**Resumen (Español):** Todas las referencias en miles de dólares canadienses, excepto los montos por acción, a menos que se indique lo contrario.JOHN'S, NEWFOUNDLAND - Altius Minerals Corporation (TSX: ALS; OTCQX: ATUSF) (\"Altius\" o la \"Corporación\") informa ingresos por año completo de $ 58.2 millones de Co ...\n",
            "**Sentimiento:** 🟢 (Positivo, Score: 0.296)\n",
            "\n",
            "--- Noticia 6 ---\n",
            "**Título (Original):** Domo, Inc. (NASDAQ:DOMO) Receives $10.08 Consensus Target Price from Brokerages\n",
            "**Título (Español):** DOMO, Inc. (NASDAQ: DOMO) recibe $ 10.08 Precio objetivo de consenso de corredores de bolsa\n",
            "**Resumen (Original):** Domo, Inc. (NASDAQ:DOMO – Get Free Report) has received an average recommendation of “Hold” from the seven research firms that are presently covering the firm, Marketbeat reports. Five investment analysts have rated the stock with a hold rating and two have g…\n",
            "**Resumen (Español):** Domo, Inc. (NASDAQ: DOMO - Informe Get Free) ha recibido una recomendación promedio de \"retención\" de las siete firmas de investigación que actualmente cubren la empresa, informa MarketBeat.Cinco analistas de inversiones han calificado la acción con una calificación de retención y dos tienen G ...\n",
            "**Sentimiento:** 🟢 (Positivo, Score: 0.5106)\n",
            "\n",
            "--- Noticia 7 ---\n",
            "**Título (Original):** Addressing AI Bias: Strategies Companies Must Adopt Now\n",
            "**Título (Español):** Abordar el sesgo de IA: las estrategias que las empresas deben adoptar ahora\n",
            "**Resumen (Original):** As AI’s footprint grows, companies must be vigilant about their ethical responsibilities, taking proactive steps to ensure systems are trustworthy and effective.\n",
            "**Resumen (Español):** A medida que crece la huella de AI, las empresas deben estar atentos a sus responsabilidades éticas, tomando medidas proactivas para garantizar que los sistemas sean confiables y efectivos.\n",
            "**Sentimiento:** 🟢 (Positivo, Score: 0.9468)\n",
            "\n",
            "--- Noticia 8 ---\n",
            "**Título (Original):** DA Davidson Initiates Coverage on Domo (NASDAQ:DOMO)\n",
            "**Título (Español):** Davidsons inicia la cobertura en Domo (NASDAQ: DOM)\n",
            "**Resumen (Original):** DA Davidson assumed coverage on shares of Domo (NASDAQ:DOMO – Free Report) in a report released on Friday morning, MarketBeat Ratings reports. The brokerage issued a neutral rating and a $8.00 price objective on the stock. A number of other equities research …\n",
            "**Resumen (Español):** DA Davidson asumió la cobertura de las acciones de DOMO (NASDAQ: DOMO - Informe gratuito) en un informe publicado el viernes por la mañana, informa MarketBeat Ratings.La corredora emitió una calificación neutral y un objetivo de precio de $ 8.00 en las acciones.Una serie de otras acciones de investigación ...\n",
            "**Sentimiento:** 🟢 (Positivo, Score: 0.7003)\n",
            "\n",
            "--- Noticia 9 ---\n",
            "**Título (Original):** Domo (NASDAQ:DOMO) Given New $8.50 Price Target at Lake Street Capital\n",
            "**Título (Español):** DOMO (NASDAQ: DOMO) dado un nuevo precio objetivo de $ 8.50 en Lake Street Capital\n",
            "**Resumen (Original):** Domo (NASDAQ:DOMO – Free Report) had its price objective cut by Lake Street Capital from $9.50 to $8.50 in a report released on Friday,Benzinga reports. They currently have a hold rating on the stock. Several other equities research analysts have also recentl…\n",
            "**Resumen (Español):** DOMO (NASDAQ: DOMO - Informe gratuito) tuvo su objetivo de precio reducido por Lake Street Capital de $ 9.50 a $ 8.50 en un informe publicado el viernes, informa Benzinga.Actualmente tienen una calificación de retención en el stock.Varios otros analistas de investigación de renta variable también tienen recientes ...\n",
            "**Sentimiento:** 🟢 (Positivo, Score: 0.296)\n",
            "\n",
            "--- Noticia 10 ---\n",
            "**Título (Original):** AI agents approach peak hype, Trump goes full crypto, CHIPS Act hangs by a nanothread\n",
            "**Título (Español):** Los agentes de IA se acercan a la exageración máxima, Trump se vuelve criptográfica, la Ley de chips cuelga de un nanothread\n",
            "**Resumen (Original):** As Microsoft CEO Satya Nadella and Salesforce CEO Marc Benioff chart out competing visions of how agentic artificial intelligence will develop, agents are gaining traction in cybersecurity, telecom and beyond. This past week, Salesforce kept pushing ahead wit…\n",
            "**Resumen (Español):** Mientras el CEO de Microsoft, Satya Nadella y el CEO de Salesforce, Marc Benioff, presentan visiones competitivas de cómo se desarrollará la inteligencia artificial de agente, los agentes están ganando terreno en ciberseguridad, telecomunicaciones y más allá.La semana pasada, Salesforce siguió presionando con el ingenio ...\n",
            "**Sentimiento:** 🟢 (Positivo, Score: 0.7783)\n",
            "\n",
            "--- Noticia 11 ---\n",
            "**Título (Original):** Domo sees Q1 adjusted EPS (22c)-(18c), consensus (20c)\n",
            "**Título (Español):** Domo ve EPS ajustado Q1 (22C)-(18C), Consenso (20C)\n",
            "**Resumen (Original):** See the rest of the story here.\n",
            "\n",
            "thefly.com provides the latest financial news as it breaks. Known as a leader in market intelligence, The Fly's real-time, streaming news feed keeps individual investors, professional money managers, active traders, and corpor…\n",
            "**Resumen (Español):** Vea el resto de la historia aquí.\n",
            "\n",
            "thefly.com proporciona las últimas noticias financieras mientras se rompe.Conocido como líder en inteligencia de mercado, la transmisión de noticias en tiempo real de la mosca mantiene inversores individuales, administradores profesionales de dinero, comerciantes activos y corporaciones ...\n",
            "**Sentimiento:** 🟢 (Positivo, Score: 0.7003)\n",
            "\n",
            "--- Noticia 12 ---\n",
            "**Título (Original):** Domo (DOMO) Projected to Post Quarterly Earnings on Thursday\n",
            "**Título (Español):** DOMO (DOMO) proyectado para publicar ganancias trimestrales el jueves\n",
            "**Resumen (Original):** Domo (NASDAQ:DOMO – Get Free Report) is anticipated to release its earnings data after the market closes on Thursday, March 6th. Analysts expect Domo to post earnings of ($0.18) per share and revenue of $77.95 million for the quarter. Persons that wish to reg…\n",
            "**Resumen (Español):** Se espera que Domo (NASDAQ: DOMO - Get Free Report) publique sus datos de ganancias después de que el mercado se cierre el jueves 6 de marzo.Los analistas esperan que Domo publique ganancias de ($ 0.18) por acción e ingresos de $ 77.95 millones para el trimestre.Personas que desean regular ...\n",
            "**Sentimiento:** 🟢 (Positivo, Score: 0.802)\n",
            "\n",
            "--- Noticia 13 ---\n",
            "**Título (Original):** 9 best practices for self-service analytics\n",
            "**Título (Español):** 9 mejores prácticas para análisis de autoservicio\n",
            "**Resumen (Original):** Expecting business benefits from an analytics platform everyone can use? Take the right steps before putting the tool into users' hands.\n",
            "**Resumen (Español):** ¿Esperar beneficios comerciales de una plataforma de análisis que todos puedan usar?Da los pasos correctos antes de poner la herramienta en manos de los usuarios.\n",
            "**Sentimiento:** 🟢 (Positivo, Score: 0.7783)\n",
            "\n",
            "--- Noticia 14 ---\n",
            "**Título (Original):** Financial Contrast: Domo (NASDAQ:DOMO) vs. YXT.COM Group (NASDAQ:YXT)\n",
            "**Título (Español):** Contraste financiero: Domo (NASDAQ: DOMO) vs. YXT.com Group (NASDAQ: YXT)\n",
            "**Resumen (Original):** Domo (NASDAQ:DOMO – Get Free Report) and YXT.COM Group (NASDAQ:YXT – Get Free Report) are both small-cap computer and technology companies, but which is the better stock? We will compare the two businesses based on the strength of their analyst recommendation…\n",
            "**Resumen (Español):** DOMO (NASDAQ: DOMO-Get Get Free Report) y Yxt.com Group (NASDAQ: YXT-Obtenga un informe gratuito) son empresas de informática y tecnología de pequeña capitalización, pero ¿cuál es el mejor stock?Compararemos las dos empresas en función de la fortaleza de su recomendación de analistas ...\n",
            "**Sentimiento:** 🟢 (Positivo, Score: 0.9091)\n",
            "\n",
            "--- Noticia 15 ---\n",
            "**Título (Original):** You don’t need to win a lottery to visit this Montana ranch, but it helps\n",
            "**Título (Español):** No necesitas ganar una lotería para visitar este rancho Montana, pero ayuda\n",
            "**Resumen (Original):** Tippet Rise is also home to outdoor sculptures, music and theater performances.\n",
            "**Resumen (Español):** Tippet Rise también alberga esculturas al aire libre, música y actuaciones teatrales.\n",
            "**Sentimiento:** 🟢 (Positivo, Score: 0.7003)\n",
            "\n",
            "--- Noticia 16 ---\n",
            "**Título (Original):** Catholic Caucus: Daily Mass Readings 28-February-2025\n",
            "**Título (Español):** Caucus católico: lecturas de masa diaria 28-febrero-2025\n",
            "**Resumen (Original):** 28 February 2025 Friday of week 7 in Ordinary TimeSt._Hilarius Freiburg, GermanyReadings at MassLiturgical Colour: Green. Year: C(I).First readingEcclesiasticus 6:5-17A faithful friend is a sure shelterA kindly turn of speech multiplies a man’s friends, and a…\n",
            "**Resumen (Español):** 28 de febrero de 2025 Viernes de la semana 7 en el tiempo de tiempo ordinario.Año: C (I). La primera lectura de ReadecclesiAsticus 6: 5-17a amigo fiel es un refugio seguro que amablemente el giro del discurso multiplica los amigos de un hombre, y un ...\n",
            "**Sentimiento:** 🟢 (Positivo, Score: 0.9287)\n",
            "\n",
            "--- Noticia 17 ---\n",
            "**Título (Original):** Domo (NASDAQ:DOMO) Upgraded at Cantor Fitzgerald\n",
            "**Título (Español):** Domo (NASDAQ: DOMO) actualizado en Cantor Fitzgerald\n",
            "**Resumen (Original):** Domo (NASDAQ:DOMO – Get Free Report) was upgraded by investment analysts at Cantor Fitzgerald to a “strong-buy” rating in a research note issued on Tuesday,Zacks.com reports. Other equities research analysts have also issued research reports about the company…\n",
            "**Resumen (Español):** DOMO (NASDAQ: DOMO-Informe Get Free) fue actualizado por analistas de inversiones de Cantor Fitzgerald a una calificación de \"compra fuerte\" en una nota de investigación emitida el martes, informa Zacks.com.Otros analistas de investigación de renta variable también han emitido informes de investigación sobre la empresa ...\n",
            "**Sentimiento:** 🟢 (Positivo, Score: 0.5106)\n",
            "\n",
            "--- Noticia 18 ---\n",
            "**Título (Original):** GenAI hot takes and bad use cases\n",
            "**Título (Español):** Genai Hot toma y malos casos de uso\n",
            "**Resumen (Original):** It seems like all we hear about are the great use cases for GenAI, but where should you NOT be using the technology? On this episode Chris and Daniel share their hot takes and bad use cases. Some may surprise you!\n",
            "**Resumen (Español):** Parece que todo lo que escuchamos son los excelentes casos de uso para Genai, pero ¿dónde no debería usar la tecnología?En este episodio, Chris y Daniel comparten sus tomas calientes y malos casos de uso.¡Algunos pueden sorprenderte!\n",
            "**Sentimiento:** 🟢 (Positivo, Score: 0.2598)\n",
            "\n",
            "--- Noticia 19 ---\n",
            "**Título (Original):** The Alchemist's 10 Best Collaborative Albums: Ranked\n",
            "**Título (Español):** Los 10 mejores álbumes colaborativos de The Alchemist: clasificados\n",
            "**Resumen (Original):** Here are The Alchemist's 10 best collaborative albums so far, from Freddie Gibbs' 'Alfredo' to Earl Sweatshirt's 'Voir Dire,' as ranked by HipHopDX.\n",
            "**Resumen (Español):** Aquí están los 10 mejores álbumes colaborativos de los alquimistas hasta ahora, desde 'Alfredo' de Freddie Gibbs, 'Voir Dire', clasificado por HIPHOPDX.\n",
            "**Sentimiento:** 🟢 (Positivo, Score: 0.8555)\n",
            "\n",
            "--- Noticia 20 ---\n",
            "**Título (Original):** View: Why India should say no to Trump's offer of F-35 fighter jets\n",
            "**Título (Español):** Vista: Por qué India debería decir que no a la oferta de Trump de Jets de combate F-35\n",
            "**Resumen (Original):** Trump's announcement regarding India receiving F-35 fighter jets has raised concerns due to known technical issues. The F-35 program has been criticized for its low mission capable rate, frequent breakdowns, and high maintenance demands. Additionally, a faile…\n",
            "**Resumen (Español):** El anuncio de Trump sobre la India que recibe los aviones de combate F-35 ha planteado preocupaciones debido a problemas técnicos conocidos.El programa F-35 ha sido criticado por su baja tasa capaz de misión, desgloses frecuentes y altas demandas de mantenimiento.Además, un fracaso ...\n",
            "**Sentimiento:** 🔴 (Negativo, Score: -0.25)\n",
            "\n",
            "## Resumen Global\n",
            "- Total de noticias analizadas: 20\n",
            "- Positivas: 19 (95.00%)\n",
            "- Negativas: 1 (5.00%)\n",
            "- Neutrales: 0 (0.00%)\n",
            "- Promedio del compound score: 0.63\n"
          ]
        }
      ]
    },
    {
      "cell_type": "markdown",
      "source": [
        "## Preprocesamiento de Texto\n",
        "\n",
        "En este bloque se implementa un preprocesamiento básico para limpiar y normalizar el texto de las noticias.\n",
        "Se realizan las siguientes acciones:\n",
        "- Conversión del texto a minúsculas.\n",
        "- Eliminación de signos de puntuación y caracteres especiales.\n",
        "- Reducción de espacios múltiples a un solo espacio.\n",
        "\n",
        "Esto ayuda a mejorar la calidad del análisis de sentimiento y otros procesos posteriores."
      ],
      "metadata": {
        "id": "FRUKBZWR7SLz"
      }
    },
    {
      "cell_type": "code",
      "source": [
        "import re\n",
        "\n",
        "def preprocess_text(text):\n",
        "    \"\"\"\n",
        "    Función para limpiar y normalizar el texto:\n",
        "    - Convierte el texto a minúsculas.\n",
        "    - Elimina signos de puntuación y caracteres especiales.\n",
        "    - Elimina espacios extra.\n",
        "    \"\"\"\n",
        "    if not text:\n",
        "        return \"\"\n",
        "    # Convertir a minúsculas\n",
        "    text = text.lower()\n",
        "    # Eliminar signos de puntuación y caracteres especiales (se conservan caracteres alfanuméricos y espacios)\n",
        "    text = re.sub(r'[^a-záéíóúñü0-9\\s]', '', text)\n",
        "    # Eliminar espacios múltiples\n",
        "    text = re.sub(r'\\s+', ' ', text).strip()\n",
        "    return text\n",
        "\n",
        "def preprocess_articles(articles):\n",
        "    \"\"\"\n",
        "    Aplica el preprocesamiento al título y resumen de cada noticia.\n",
        "    Se agregan nuevas claves 'title_clean' y 'description_clean' a cada diccionario.\n",
        "    \"\"\"\n",
        "    for article in articles:\n",
        "        article[\"title_clean\"] = preprocess_text(article.get(\"title\"))\n",
        "        article[\"description_clean\"] = preprocess_text(article.get(\"description\"))\n",
        "    return articles\n",
        "\n",
        "# Preprocesamos las noticias ya obtenidas\n",
        "articles = preprocess_articles(articles)\n",
        "\n",
        "# Ejemplo: Mostrar el título original y el título limpio de la primera noticia\n",
        "if articles:\n",
        "    print(\"Ejemplo de preprocesamiento:\")\n",
        "    print(\"Título original:\", articles[0].get(\"title\", \"N/A\"))\n",
        "    print(\"Título limpio:\", articles[0].get(\"title_clean\", \"N/A\"))"
      ],
      "metadata": {
        "colab": {
          "base_uri": "https://localhost:8080/"
        },
        "id": "Y7iwv8Zw6cI0",
        "outputId": "a6ac3d5e-3d94-4fbf-a8da-77f9adbaa964"
      },
      "execution_count": 55,
      "outputs": [
        {
          "output_type": "stream",
          "name": "stdout",
          "text": [
            "Ejemplo de preprocesamiento:\n",
            "Título original: Domo (NASDAQ:DOMO) Price Target Raised to $9.00\n",
            "Título limpio: domo nasdaqdomo price target raised to 900\n"
          ]
        }
      ]
    },
    {
      "cell_type": "markdown",
      "source": [
        "## Análisis Temporal de las Noticias\n",
        "\n",
        "En este bloque se procesa la fecha de publicación de cada noticia usando el campo \"publishedAt\" proporcionado por NewsAPI.\n",
        "Se extrae la fecha en formato \"YYYY-MM-DD\" y se almacena en un nuevo campo \"published_date\".\n",
        "Luego, se cuenta la cantidad de noticias publicadas por cada día, lo que nos permite entender la distribución temporal de las noticias."
      ],
      "metadata": {
        "id": "TN8a-1sw7KXC"
      }
    },
    {
      "cell_type": "code",
      "source": [
        "from datetime import datetime\n",
        "from collections import Counter\n",
        "\n",
        "def process_dates(articles):\n",
        "    \"\"\"\n",
        "    Extrae y formatea la fecha de publicación (publishedAt) de cada noticia.\n",
        "    Se agrega un nuevo campo 'published_date' con el formato 'YYYY-MM-DD'.\n",
        "    \"\"\"\n",
        "    for article in articles:\n",
        "        published_at = article.get(\"publishedAt\", \"\")\n",
        "        if published_at:\n",
        "            try:\n",
        "                # Convertir a objeto datetime (se reemplaza la 'Z' por '+00:00' para compatibilidad)\n",
        "                dt = datetime.fromisoformat(published_at.replace(\"Z\", \"+00:00\"))\n",
        "                # Guardar solo la fecha en formato YYYY-MM-DD\n",
        "                article[\"published_date\"] = dt.date().isoformat()\n",
        "            except Exception as e:\n",
        "                article[\"published_date\"] = \"Fecha no válida\"\n",
        "        else:\n",
        "            article[\"published_date\"] = \"N/A\"\n",
        "    return articles\n",
        "\n",
        "def temporal_analysis(articles):\n",
        "    \"\"\"\n",
        "    Realiza un análisis temporal contando la cantidad de noticias publicadas por cada fecha.\n",
        "    Imprime un resumen en formato markdown mostrando la distribución de las noticias.\n",
        "    \"\"\"\n",
        "    # Extraer las fechas de publicación válidas\n",
        "    dates = [article.get(\"published_date\", \"N/A\") for article in articles if article.get(\"published_date\") not in [\"N/A\", \"Fecha no válida\"]]\n",
        "    if dates:\n",
        "        date_counts = Counter(dates)\n",
        "        print(\"## Análisis Temporal de las Noticias\")\n",
        "        for date, count in sorted(date_counts.items()):\n",
        "            print(f\"- {date}: {count} noticia(s)\")\n",
        "    else:\n",
        "        print(\"No se pudieron procesar las fechas de publicación de las noticias.\")\n",
        "\n",
        "# Procesamos las fechas de publicación en las noticias\n",
        "articles = process_dates(articles)\n",
        "\n",
        "# Realizamos y mostramos el análisis temporal\n",
        "temporal_analysis(articles)"
      ],
      "metadata": {
        "colab": {
          "base_uri": "https://localhost:8080/"
        },
        "id": "eMguo62t6cC0",
        "outputId": "f2bd31cb-6f3f-47bc-f8f6-30fc551c8e58"
      },
      "execution_count": 56,
      "outputs": [
        {
          "output_type": "stream",
          "name": "stdout",
          "text": [
            "## Análisis Temporal de las Noticias\n",
            "- 2025-02-17: 1 noticia(s)\n",
            "- 2025-02-20: 1 noticia(s)\n",
            "- 2025-02-24: 1 noticia(s)\n",
            "- 2025-02-27: 1 noticia(s)\n",
            "- 2025-03-01: 1 noticia(s)\n",
            "- 2025-03-02: 1 noticia(s)\n",
            "- 2025-03-03: 2 noticia(s)\n",
            "- 2025-03-05: 1 noticia(s)\n",
            "- 2025-03-06: 1 noticia(s)\n",
            "- 2025-03-07: 1 noticia(s)\n",
            "- 2025-03-10: 3 noticia(s)\n",
            "- 2025-03-11: 2 noticia(s)\n",
            "- 2025-03-13: 2 noticia(s)\n",
            "- 2025-03-14: 1 noticia(s)\n",
            "- 2025-03-16: 1 noticia(s)\n"
          ]
        }
      ]
    },
    {
      "cell_type": "markdown",
      "source": [
        "## Visualización Gráfica del Análisis Temporal\n",
        "En este bloque se crea un gráfico de barras utilizando matplotlib para representar la cantidad de noticias publicadas por fecha.\n",
        "Se extraen las fechas válidas del campo \"published_date\", se cuentan las ocurrencias y se generan las barras correspondientes.\n",
        "Este gráfico permite visualizar de forma intuitiva la distribución temporal de las noticias."
      ],
      "metadata": {
        "id": "7zfSleMf7AGo"
      }
    },
    {
      "cell_type": "code",
      "source": [
        "import matplotlib.pyplot as plt\n",
        "from collections import Counter\n",
        "\n",
        "def plot_temporal_analysis(articles):\n",
        "    # Extraer fechas válidas\n",
        "    dates = [article.get(\"published_date\") for article in articles if article.get(\"published_date\") not in [\"N/A\", \"Fecha no válida\"]]\n",
        "    if not dates:\n",
        "        print(\"No se encontraron fechas válidas para graficar.\")\n",
        "        return\n",
        "\n",
        "    # Contar la cantidad de noticias por cada fecha\n",
        "    date_counts = Counter(dates)\n",
        "\n",
        "    # Ordenar las fechas para una visualización coherente\n",
        "    sorted_dates = sorted(date_counts.keys())\n",
        "    counts = [date_counts[date] for date in sorted_dates]\n",
        "\n",
        "    # Crear el gráfico de barras\n",
        "    plt.figure(figsize=(10, 6))\n",
        "    plt.bar(sorted_dates, counts, color='skyblue')\n",
        "    plt.xlabel(\"Fecha de Publicación\")\n",
        "    plt.ylabel(\"Cantidad de Noticias\")\n",
        "    plt.title(\"Distribución Temporal de las Noticias\")\n",
        "    plt.xticks(rotation=45)\n",
        "    plt.tight_layout()\n",
        "    plt.show()\n",
        "\n",
        "# Ejecutar la función para mostrar el gráfico\n",
        "plot_temporal_analysis(articles)"
      ],
      "metadata": {
        "colab": {
          "base_uri": "https://localhost:8080/",
          "height": 607
        },
        "id": "ifXgwWq-6b9s",
        "outputId": "8b807a6a-c937-49a8-e70a-a22fe6131898"
      },
      "execution_count": 57,
      "outputs": [
        {
          "output_type": "display_data",
          "data": {
            "text/plain": [
              "<Figure size 1000x600 with 1 Axes>"
            ],
            "image/png": "[encoded data removed]"
          },
          "metadata": {}
        }
      ]
    },
    {
      "cell_type": "markdown",
      "source": [
        "## Análisis de Sentimiento Temporal\n",
        "\n",
        "En este bloque se realiza el análisis del sentimiento a lo largo del tiempo.\n",
        "Se agrupan las noticias por su fecha de publicación (campo \"published_date\") y se calcula:\n",
        "- La cantidad de noticias positivas, neutrales y negativas por fecha.\n",
        "- El promedio del compound score para cada fecha.\n",
        "\n",
        "Se generan dos gráficos:\n",
        "1. Un gráfico de barras apiladas que muestra la distribución de sentimientos.\n",
        "2. Un gráfico de línea que muestra el promedio del compound score a lo largo del tiempo."
      ],
      "metadata": {
        "id": "yplfqemD6ysH"
      }
    },
    {
      "cell_type": "code",
      "source": [
        "import matplotlib.pyplot as plt\n",
        "from collections import defaultdict\n",
        "\n",
        "# Inicializamos diccionarios para contar sentimientos y acumular scores\n",
        "sentiment_counts = defaultdict(lambda: {\"Positivo\": 0, \"Negativo\": 0, \"Neutral\": 0})\n",
        "compound_sum = defaultdict(float)\n",
        "article_count = defaultdict(int)\n",
        "\n",
        "# Procesamos cada noticia\n",
        "for article in articles:\n",
        "    date = article.get(\"published_date\")\n",
        "    if date and date not in [\"N/A\", \"Fecha no válida\"]:\n",
        "        sentiment = article.get(\"sentiment\")\n",
        "        sentiment_counts[date][sentiment] += 1\n",
        "        compound_sum[date] += article.get(\"sentiment_score\", 0)\n",
        "        article_count[date] += 1\n",
        "\n",
        "# Ordenamos las fechas para la visualización\n",
        "sorted_dates = sorted(sentiment_counts.keys())\n",
        "\n",
        "# Extraemos los datos para cada fecha\n",
        "positive_counts = [sentiment_counts[date][\"Positivo\"] for date in sorted_dates]\n",
        "neutral_counts  = [sentiment_counts[date][\"Neutral\"] for date in sorted_dates]\n",
        "negative_counts = [sentiment_counts[date][\"Negativo\"] for date in sorted_dates]\n",
        "average_compound = [compound_sum[date] / article_count[date] for date in sorted_dates]\n",
        "\n",
        "# Creamos dos subplots: uno para el gráfico de barras apiladas y otro para el promedio del compound score\n",
        "fig, axs = plt.subplots(1, 2, figsize=(14, 6))\n",
        "\n",
        "# Gráfico 1: Barras apiladas de la distribución de sentimientos\n",
        "axs[0].bar(sorted_dates, positive_counts, color=\"green\", label=\"Positivo\")\n",
        "axs[0].bar(sorted_dates, neutral_counts, bottom=positive_counts, color=\"gray\", label=\"Neutral\")\n",
        "bottom_neg = [p + n for p, n in zip(positive_counts, neutral_counts)]\n",
        "axs[0].bar(sorted_dates, negative_counts, bottom=bottom_neg, color=\"red\", label=\"Negativo\")\n",
        "axs[0].set_xlabel(\"Fecha\")\n",
        "axs[0].set_ylabel(\"Cantidad de Noticias\")\n",
        "axs[0].set_title(\"Distribución Temporal del Sentimiento\")\n",
        "axs[0].legend()\n",
        "\n",
        "# Gráfico 2: Línea del promedio del compound score por fecha\n",
        "axs[1].plot(sorted_dates, average_compound, marker='o', color=\"blue\")\n",
        "axs[1].set_xlabel(\"Fecha\")\n",
        "axs[1].set_ylabel(\"Promedio del Compound Score\")\n",
        "axs[1].set_title(\"Promedio del Sentimiento (Compound Score)\")\n",
        "axs[1].axhline(0, color=\"black\", linestyle=\"--\", linewidth=0.5)\n",
        "\n",
        "# Rotar etiquetas en el eje x para una mejor legibilidad\n",
        "for ax in axs:\n",
        "    ax.tick_params(axis='x', rotation=45)\n",
        "\n",
        "plt.tight_layout()\n",
        "plt.show()"
      ],
      "metadata": {
        "colab": {
          "base_uri": "https://localhost:8080/",
          "height": 607
        },
        "id": "Y_rKa7176bxW",
        "outputId": "ab6d4ffa-69fa-4aee-a9cb-2704d34a1fd6"
      },
      "execution_count": 58,
      "outputs": [
        {
          "output_type": "display_data",
          "data": {
            "text/plain": [
              "<Figure size 1400x600 with 2 Axes>"
            ],
            "image/png": "[encoded data removed]"
          },
          "metadata": {}
        }
      ]
    },
    {
      "cell_type": "markdown",
      "source": [
        "# **Sólo para fines ilustrativos dejaré el siguiente análisis del resultado final de la acción elegida como ejemplo para este documento. Con la intención de que el mismo pueda modificarse y adaptarse a la acción elegida por el usuario...**\n",
        "\n",
        "## Interpretación del Análisis Final\n",
        "\n",
        "El análisis global de las noticias de la empresa DOMO Inc. (DOMO) muestra que, de las noticias analizadas, la gran mayoría presenta un sentimiento **positivo**. Por ejemplo, si se analizaron 20 noticias y el 95% fueron positivas con un promedio global del compound score de **0.63**, esto indica que el mercado tiene una percepción muy optimista sobre la acción.\n",
        "\n",
        "Esta predominancia de noticias positivas sugiere que:\n",
        "- **Confianza en el Desempeño:** Los inversionistas y analistas perciben potencial de crecimiento y estabilidad en la acción.\n",
        "- **Optimismo Generalizado:** La alta proporción de noticias favorables puede influir en un sentimiento alcista, lo que podría traducirse en un impulso en el valor de la acción.\n",
        "\n",
        "El análisis temporal respalda esta conclusión, mostrando una distribución constante de la cobertura mediática a lo largo del período evaluado. Esto implica que la percepción positiva se mantiene de forma sostenida y no se debe a un pico aislado en la actividad informativa.\n",
        "\n",
        "**En resumen:**  \n",
        "La combinación de un alto porcentaje de noticias positivas, un promedio robusto del compound score y una cobertura constante a lo largo del tiempo, sugiere que la situación de la acción es favorable en el corto plazo. Sin embargo, es recomendable complementar este análisis con otros estudios financieros y técnicos para tomar decisiones de inversión más informadas.\n"
      ],
      "metadata": {
        "id": "YxO4TkyrBHQ9"
      }
    }
  ]
}